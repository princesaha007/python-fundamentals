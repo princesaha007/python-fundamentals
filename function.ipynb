{
 "cells": [
  {
   "cell_type": "code",
   "id": "initial_id",
   "metadata": {
    "collapsed": true,
    "ExecuteTime": {
     "end_time": "2025-09-01T05:39:09.438608Z",
     "start_time": "2025-09-01T05:39:09.431585Z"
    }
   },
   "source": [
    "def is_even(number):\n",
    "\n",
    "    if type(number) is int:\n",
    "        if number%2==0:\n",
    "            return \"even\"\n",
    "        else:\n",
    "            return \"odd\"\n",
    "    else:\n",
    "        return \"Not a number\""
   ],
   "outputs": [],
   "execution_count": 8
  },
  {
   "metadata": {
    "ExecuteTime": {
     "end_time": "2025-09-01T05:39:10.527936Z",
     "start_time": "2025-09-01T05:39:10.521658Z"
    }
   },
   "cell_type": "code",
   "source": [
    "for i in range(1,11):\n",
    "    print(is_even(i))"
   ],
   "id": "c98587e79d6f8f36",
   "outputs": [
    {
     "name": "stdout",
     "output_type": "stream",
     "text": [
      "odd\n",
      "even\n",
      "odd\n",
      "even\n",
      "odd\n",
      "even\n",
      "odd\n",
      "even\n",
      "odd\n",
      "even\n"
     ]
    }
   ],
   "execution_count": 9
  },
  {
   "metadata": {
    "ExecuteTime": {
     "end_time": "2025-09-01T05:39:12.129260Z",
     "start_time": "2025-09-01T05:39:12.124294Z"
    }
   },
   "cell_type": "code",
   "source": "print(is_even(\"hello\"))",
   "id": "328e8f7c42eecca8",
   "outputs": [
    {
     "name": "stdout",
     "output_type": "stream",
     "text": [
      "Not a number\n"
     ]
    }
   ],
   "execution_count": 10
  },
  {
   "metadata": {
    "ExecuteTime": {
     "end_time": "2025-09-01T05:40:16.419693Z",
     "start_time": "2025-09-01T05:40:16.413894Z"
    }
   },
   "cell_type": "code",
   "source": [
    "x= is_even(10)\n",
    "print(x)"
   ],
   "id": "f4cf644e024221d",
   "outputs": [
    {
     "name": "stdout",
     "output_type": "stream",
     "text": [
      "even\n"
     ]
    }
   ],
   "execution_count": 11
  },
  {
   "metadata": {},
   "cell_type": "markdown",
   "source": "DEFAULT ARGUMENT. it basically takes a default value in the parameter even if you dont pass the parametre as expected it will save the code from crash.",
   "id": "e4856d36a8de9845"
  },
  {
   "metadata": {
    "ExecuteTime": {
     "end_time": "2025-09-01T05:47:50.111944Z",
     "start_time": "2025-09-01T05:47:50.106252Z"
    }
   },
   "cell_type": "code",
   "source": [
    "def power(a=1,b=1):\n",
    "    return a**b\n",
    "print(power(2,3))"
   ],
   "id": "6b3b7a90c6c02a03",
   "outputs": [
    {
     "name": "stdout",
     "output_type": "stream",
     "text": [
      "8\n"
     ]
    }
   ],
   "execution_count": 13
  },
  {
   "metadata": {
    "ExecuteTime": {
     "end_time": "2025-09-01T05:48:05.725860Z",
     "start_time": "2025-09-01T05:48:05.720124Z"
    }
   },
   "cell_type": "code",
   "source": "print(power(3))",
   "id": "965a6ad04879ec55",
   "outputs": [
    {
     "name": "stdout",
     "output_type": "stream",
     "text": [
      "3\n"
     ]
    }
   ],
   "execution_count": 14
  },
  {
   "metadata": {},
   "cell_type": "markdown",
   "source": "POSITIONAL ARGUMENT. the parameter position\n",
   "id": "9325581100b2fc92"
  },
  {
   "metadata": {
    "ExecuteTime": {
     "end_time": "2025-09-01T05:55:45.773624Z",
     "start_time": "2025-09-01T05:55:45.768367Z"
    }
   },
   "cell_type": "code",
   "source": "print(power(a=2, b=3))",
   "id": "978d74e5fcd07006",
   "outputs": [
    {
     "name": "stdout",
     "output_type": "stream",
     "text": [
      "8\n"
     ]
    }
   ],
   "execution_count": 16
  },
  {
   "metadata": {},
   "cell_type": "markdown",
   "source": "KEYWORD ARGUMENT. when we pass the parameter we are declaring the variable inside it, so it overlaps the positioning argument.",
   "id": "26a26ee9cc28af26"
  },
  {
   "metadata": {
    "ExecuteTime": {
     "end_time": "2025-09-01T05:53:11.226017Z",
     "start_time": "2025-09-01T05:53:11.220916Z"
    }
   },
   "cell_type": "code",
   "source": "print(power(b=2, a=3))",
   "id": "2e424b02b91b6971",
   "outputs": [
    {
     "name": "stdout",
     "output_type": "stream",
     "text": [
      "9\n"
     ]
    }
   ],
   "execution_count": 15
  },
  {
   "metadata": {},
   "cell_type": "markdown",
   "source": "ARBITARY ARGUMNET. how print function works",
   "id": "55385629523a2a15"
  },
  {
   "metadata": {
    "ExecuteTime": {
     "end_time": "2025-09-01T06:16:08.633600Z",
     "start_time": "2025-09-01T06:16:08.624928Z"
    }
   },
   "cell_type": "code",
   "source": [
    "def flexi(*numbers):\n",
    "    print(numbers)\n",
    "    print(type(numbers))\n",
    "    product= 1\n",
    "    for i in numbers:\n",
    "        product= product * i\n",
    "    print(product)\n",
    "\n",
    "flexi(1)"
   ],
   "id": "6db8de7ff2724683",
   "outputs": [
    {
     "name": "stdout",
     "output_type": "stream",
     "text": [
      "(1,)\n",
      "<class 'tuple'>\n",
      "1\n"
     ]
    }
   ],
   "execution_count": 26
  },
  {
   "metadata": {
    "ExecuteTime": {
     "end_time": "2025-09-01T06:16:09.330906Z",
     "start_time": "2025-09-01T06:16:09.323709Z"
    }
   },
   "cell_type": "code",
   "source": "flexi(1,2,3,4,5)",
   "id": "42460757ebb7968c",
   "outputs": [
    {
     "name": "stdout",
     "output_type": "stream",
     "text": [
      "(1, 2, 3, 4, 5)\n",
      "<class 'tuple'>\n",
      "120\n"
     ]
    }
   ],
   "execution_count": 27
  },
  {
   "metadata": {},
   "cell_type": "markdown",
   "source": "---------------------------------------------------",
   "id": "2bf69ea6ec4daf99"
  },
  {
   "metadata": {},
   "cell_type": "markdown",
   "source": "even if x is not in the function but working with global variable x",
   "id": "3281af7ed3675053"
  },
  {
   "metadata": {
    "ExecuteTime": {
     "end_time": "2025-09-01T09:37:59.262841Z",
     "start_time": "2025-09-01T09:37:59.249360Z"
    }
   },
   "cell_type": "code",
   "source": [
    "def g(y):\n",
    "    print(x)\n",
    "    print(x+1)\n",
    "\n",
    "x=5\n",
    "g(x)\n",
    "print(x)"
   ],
   "id": "52e5100841075fb5",
   "outputs": [
    {
     "name": "stdout",
     "output_type": "stream",
     "text": [
      "5\n",
      "6\n",
      "5\n"
     ]
    }
   ],
   "execution_count": 32
  },
  {
   "metadata": {
    "ExecuteTime": {
     "end_time": "2025-09-01T09:35:29.000960Z",
     "start_time": "2025-09-01T09:35:28.986999Z"
    }
   },
   "cell_type": "code",
   "source": "print(g(x))",
   "id": "a59b09453dc6dcfb",
   "outputs": [
    {
     "name": "stdout",
     "output_type": "stream",
     "text": [
      "5\n",
      "6\n",
      "None\n"
     ]
    }
   ],
   "execution_count": 30
  },
  {
   "metadata": {},
   "cell_type": "markdown",
   "source": "you can use the global variable but cant change it, hit an **error**",
   "id": "7fc3d72db4ab5f1b"
  },
  {
   "metadata": {
    "ExecuteTime": {
     "end_time": "2025-09-01T09:41:19.045756Z",
     "start_time": "2025-09-01T09:41:19.001046Z"
    }
   },
   "cell_type": "code",
   "source": [
    "def h(y):\n",
    "    x += 1\n",
    "\n",
    "x=5\n",
    "h(x)\n",
    "print(x)"
   ],
   "id": "bb7fcd2d032be193",
   "outputs": [
    {
     "ename": "UnboundLocalError",
     "evalue": "cannot access local variable 'x' where it is not associated with a value",
     "output_type": "error",
     "traceback": [
      "\u001B[31m---------------------------------------------------------------------------\u001B[39m",
      "\u001B[31mUnboundLocalError\u001B[39m                         Traceback (most recent call last)",
      "\u001B[36mCell\u001B[39m\u001B[36m \u001B[39m\u001B[32mIn[34]\u001B[39m\u001B[32m, line 6\u001B[39m\n\u001B[32m      2\u001B[39m     x += \u001B[32m1\u001B[39m\n\u001B[32m      5\u001B[39m x=\u001B[32m5\u001B[39m\n\u001B[32m----> \u001B[39m\u001B[32m6\u001B[39m \u001B[43mh\u001B[49m\u001B[43m(\u001B[49m\u001B[43mx\u001B[49m\u001B[43m)\u001B[49m\n\u001B[32m      7\u001B[39m \u001B[38;5;28mprint\u001B[39m(x)\n",
      "\u001B[36mCell\u001B[39m\u001B[36m \u001B[39m\u001B[32mIn[34]\u001B[39m\u001B[32m, line 2\u001B[39m, in \u001B[36mh\u001B[39m\u001B[34m(y)\u001B[39m\n\u001B[32m      1\u001B[39m \u001B[38;5;28;01mdef\u001B[39;00m\u001B[38;5;250m \u001B[39m\u001B[34mh\u001B[39m(y):\n\u001B[32m----> \u001B[39m\u001B[32m2\u001B[39m     \u001B[43mx\u001B[49m += \u001B[32m1\u001B[39m\n",
      "\u001B[31mUnboundLocalError\u001B[39m: cannot access local variable 'x' where it is not associated with a value"
     ]
    }
   ],
   "execution_count": 34
  },
  {
   "metadata": {},
   "cell_type": "markdown",
   "source": "but in case of changing the global variable we can use the keyword \"**global**\" and can change the variable without an error. but it is not a good practice",
   "id": "fe0ae76f31f592f8"
  },
  {
   "metadata": {
    "ExecuteTime": {
     "end_time": "2025-09-01T09:57:37.551922Z",
     "start_time": "2025-09-01T09:57:37.538563Z"
    }
   },
   "cell_type": "code",
   "source": [
    "def h(y):\n",
    "    global x\n",
    "    x += 1\n",
    "\n",
    "x=5\n",
    "h(x)\n",
    "print(x)"
   ],
   "id": "49259810442737c8",
   "outputs": [
    {
     "name": "stdout",
     "output_type": "stream",
     "text": [
      "6\n"
     ]
    }
   ],
   "execution_count": 35
  },
  {
   "metadata": {},
   "cell_type": "markdown",
   "source": "**Nested function**",
   "id": "40f385ff69ffe934"
  },
  {
   "metadata": {
    "ExecuteTime": {
     "end_time": "2025-09-01T10:01:30.363315Z",
     "start_time": "2025-09-01T10:01:30.356504Z"
    }
   },
   "cell_type": "code",
   "source": [
    "def f():\n",
    "    print(\"inside f\")\n",
    "    def g():\n",
    "        print(\"inside g\")\n",
    "    g()\n",
    "f()"
   ],
   "id": "67c40d483d3179ea",
   "outputs": [
    {
     "name": "stdout",
     "output_type": "stream",
     "text": [
      "inside f\n",
      "inside g\n"
     ]
    }
   ],
   "execution_count": 36
  },
  {
   "metadata": {},
   "cell_type": "markdown",
   "source": "As nested function g() is hidden so will hit an error if we first call g() without calling f()",
   "id": "992e750b2c1b0eaa"
  },
  {
   "metadata": {
    "ExecuteTime": {
     "end_time": "2025-09-01T10:01:48.719888Z",
     "start_time": "2025-09-01T10:01:48.685880Z"
    }
   },
   "cell_type": "code",
   "source": "g()",
   "id": "8d7b9ed771ced16e",
   "outputs": [
    {
     "ename": "TypeError",
     "evalue": "g() missing 1 required positional argument: 'y'",
     "output_type": "error",
     "traceback": [
      "\u001B[31m---------------------------------------------------------------------------\u001B[39m",
      "\u001B[31mTypeError\u001B[39m                                 Traceback (most recent call last)",
      "\u001B[36mCell\u001B[39m\u001B[36m \u001B[39m\u001B[32mIn[37]\u001B[39m\u001B[32m, line 1\u001B[39m\n\u001B[32m----> \u001B[39m\u001B[32m1\u001B[39m \u001B[43mg\u001B[49m\u001B[43m(\u001B[49m\u001B[43m)\u001B[49m\n",
      "\u001B[31mTypeError\u001B[39m: g() missing 1 required positional argument: 'y'"
     ]
    }
   ],
   "execution_count": 37
  },
  {
   "metadata": {},
   "cell_type": "code",
   "outputs": [],
   "execution_count": null,
   "source": "",
   "id": "bf008f0c02b29fd5"
  }
 ],
 "metadata": {
  "kernelspec": {
   "display_name": "Python 3",
   "language": "python",
   "name": "python3"
  },
  "language_info": {
   "codemirror_mode": {
    "name": "ipython",
    "version": 2
   },
   "file_extension": ".py",
   "mimetype": "text/x-python",
   "name": "python",
   "nbconvert_exporter": "python",
   "pygments_lexer": "ipython2",
   "version": "2.7.6"
  }
 },
 "nbformat": 4,
 "nbformat_minor": 5
}
