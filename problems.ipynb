{
 "cells": [
  {
   "metadata": {
    "ExecuteTime": {
     "end_time": "2025-08-31T09:35:16.506814Z",
     "start_time": "2025-08-31T09:35:00.244977Z"
    }
   },
   "cell_type": "code",
   "source": [
    "numbers = list(map(int, input(\"Enter numbers separated by space: \").split()))\n",
    "print(numbers)"
   ],
   "id": "8880d18f809d974e",
   "outputs": [
    {
     "name": "stdout",
     "output_type": "stream",
     "text": [
      "[1, 3, 5, 6, 50, 150, 500]\n"
     ]
    }
   ],
   "execution_count": 5
  },
  {
   "metadata": {
    "ExecuteTime": {
     "end_time": "2025-08-31T09:41:47.443901Z",
     "start_time": "2025-08-31T09:41:03.564225Z"
    }
   },
   "cell_type": "code",
   "source": [
    "number = list(map(int, input(\"Enter numbers separated by space: \").split()))\n",
    "for i in number:\n",
    "\n",
    "    if i>150:\n",
    "        continue\n",
    "    if i>500:\n",
    "        break\n",
    "    if i%5==0:\n",
    "        print(i)\n",
    "\n"
   ],
   "id": "d9607e6ca51bb986",
   "outputs": [
    {
     "name": "stdout",
     "output_type": "stream",
     "text": [
      "10\n",
      "20\n"
     ]
    }
   ],
   "execution_count": 8
  },
  {
   "metadata": {},
   "cell_type": "code",
   "outputs": [],
   "execution_count": null,
   "source": "",
   "id": "d2879f0c476971e7"
  }
 ],
 "metadata": {
  "kernelspec": {
   "display_name": "Python 3",
   "language": "python",
   "name": "python3"
  },
  "language_info": {
   "codemirror_mode": {
    "name": "ipython",
    "version": 2
   },
   "file_extension": ".py",
   "mimetype": "text/x-python",
   "name": "python",
   "nbconvert_exporter": "python",
   "pygments_lexer": "ipython2",
   "version": "2.7.6"
  }
 },
 "nbformat": 4,
 "nbformat_minor": 5
}
