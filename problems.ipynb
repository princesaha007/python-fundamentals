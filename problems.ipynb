{
 "cells": [
  {
   "metadata": {
    "ExecuteTime": {
     "end_time": "2025-08-31T09:35:16.506814Z",
     "start_time": "2025-08-31T09:35:00.244977Z"
    }
   },
   "cell_type": "code",
   "source": [
    "numbers = list(map(int, input(\"Enter numbers separated by space: \").split()))\n",
    "print(numbers)"
   ],
   "id": "8880d18f809d974e",
   "outputs": [
    {
     "name": "stdout",
     "output_type": "stream",
     "text": [
      "[1, 3, 5, 6, 50, 150, 500]\n"
     ]
    }
   ],
   "execution_count": 5
  },
  {
   "metadata": {
    "ExecuteTime": {
     "end_time": "2025-08-31T09:41:47.443901Z",
     "start_time": "2025-08-31T09:41:03.564225Z"
    }
   },
   "cell_type": "code",
   "source": [
    "number = list(map(int, input(\"Enter numbers separated by space: \").split()))\n",
    "for i in number:\n",
    "\n",
    "    if i>150:\n",
    "        continue\n",
    "    if i>500:\n",
    "        break\n",
    "    if i%5==0:\n",
    "        print(i)\n",
    "\n"
   ],
   "id": "d9607e6ca51bb986",
   "outputs": [
    {
     "name": "stdout",
     "output_type": "stream",
     "text": [
      "10\n",
      "20\n"
     ]
    }
   ],
   "execution_count": 8
  },
  {
   "metadata": {},
   "cell_type": "markdown",
   "source": "lIst comprehension",
   "id": "1a361f6272f6cd62"
  },
  {
   "metadata": {
    "ExecuteTime": {
     "end_time": "2025-09-02T12:01:06.994605Z",
     "start_time": "2025-09-02T12:01:06.958510Z"
    }
   },
   "cell_type": "code",
   "source": [
    "words = [\"apple\", \"banana\", \"cherry\", \"date\"]\n",
    "short_words = [w.upper() for w in words if len(w) <= 5]\n",
    "print(short_words)"
   ],
   "id": "d2879f0c476971e7",
   "outputs": [
    {
     "name": "stdout",
     "output_type": "stream",
     "text": [
      "['APPLE', 'DATE']\n"
     ]
    }
   ],
   "execution_count": 9
  },
  {
   "metadata": {
    "ExecuteTime": {
     "end_time": "2025-09-02T12:04:09.206454Z",
     "start_time": "2025-09-02T12:04:09.199881Z"
    }
   },
   "cell_type": "code",
   "source": [
    "nums = [10, 15, 20, 25, 31, 32]\n",
    "divisible_by_5 = [x for x in nums if x % 5 == 0]\n",
    "print(divisible_by_5)"
   ],
   "id": "eabe00d70f4d2a06",
   "outputs": [
    {
     "name": "stdout",
     "output_type": "stream",
     "text": [
      "[10, 15, 20, 25]\n"
     ]
    }
   ],
   "execution_count": 12
  },
  {
   "metadata": {
    "ExecuteTime": {
     "end_time": "2025-09-02T12:24:17.997794Z",
     "start_time": "2025-09-02T12:24:09.222906Z"
    }
   },
   "cell_type": "code",
   "source": [
    "a= int(input(\"Enter a number for a: \"))\n",
    "b = int(input(\"Enter a number for b: \"))\n",
    "\n",
    "\n",
    "def swap(a,b):\n",
    "    a,b=b,a\n",
    "    return a,b\n",
    "\n",
    "result = swap(a,b)\n",
    "print(\"a,b=\",result)\n"
   ],
   "id": "22d42282daed9bac",
   "outputs": [
    {
     "name": "stdout",
     "output_type": "stream",
     "text": [
      "a,b= (7, 5)\n"
     ]
    }
   ],
   "execution_count": 20
  },
  {
   "metadata": {
    "ExecuteTime": {
     "end_time": "2025-09-02T12:30:54.059323Z",
     "start_time": "2025-09-02T12:30:42.508758Z"
    }
   },
   "cell_type": "code",
   "source": [
    "age1=int(input(\"Enter age1: \"))\n",
    "age2=int(input(\"Enter age2: \"))\n",
    "age3=int(input(\"Enter age3: \"))\n",
    "\n",
    "def old(age1,age2,age3):\n",
    "    if age1>=age2:\n",
    "        if age1>=age3:\n",
    "            return age1\n",
    "    elif age2>=age3 and age2>=age1:\n",
    "            return age2\n",
    "    elif age3>=age1 and age3>=age2:\n",
    "            return age3\n",
    "\n",
    "result= old(age1,age2,age3)\n",
    "print(\"oldest number is\", result)"
   ],
   "id": "60c46a21d358a115",
   "outputs": [
    {
     "name": "stdout",
     "output_type": "stream",
     "text": [
      "oldest number is 50\n"
     ]
    }
   ],
   "execution_count": 22
  },
  {
   "metadata": {
    "ExecuteTime": {
     "end_time": "2025-09-02T12:33:30.455585Z",
     "start_time": "2025-09-02T12:33:17.350567Z"
    }
   },
   "cell_type": "code",
   "source": [
    "age1=int(input(\"Enter age1: \"))\n",
    "age2=int(input(\"Enter age2: \"))\n",
    "age3=int(input(\"Enter age3: \"))\n",
    "\n",
    "def old(age1,age2,age3):\n",
    "    oldest= max(age1,age2,age3)\n",
    "    return oldest\n",
    "\n",
    "result = old(age1,age2,age3)\n",
    "print(\"oldest number is\", result)\n",
    "\n"
   ],
   "id": "86c687ae7780835",
   "outputs": [
    {
     "name": "stdout",
     "output_type": "stream",
     "text": [
      "oldest number is 85\n"
     ]
    }
   ],
   "execution_count": 23
  },
  {
   "metadata": {
    "ExecuteTime": {
     "end_time": "2025-09-03T04:29:26.569395Z",
     "start_time": "2025-09-03T04:29:26.553060Z"
    }
   },
   "cell_type": "code",
   "source": [
    "class Solution(object):\n",
    "    def maxProfit(self, prices):\n",
    "        \"\"\"\n",
    "        :type prices: List[int]\n",
    "        :rtype: int\n",
    "        \"\"\"\n",
    "        n = len(prices)\n",
    "        max_profit = 0\n",
    "\n",
    "        # Try every pair (buy day i, sell day j)\n",
    "        for i in range(n):             # buying day\n",
    "            for j in range(i+1, n):    # selling day after buying\n",
    "                if prices[j] > prices[i]:\n",
    "                    profit = prices[j] - prices[i]\n",
    "                    max_profit = max(max_profit, profit)\n",
    "\n",
    "        return max_profit\n",
    "\n",
    "\n",
    "# Example test\n",
    "prices = [7,1,5,3,6,4]\n",
    "sol = Solution()\n",
    "print(\"Maximum Profit:\", sol.maxProfit(prices))\n"
   ],
   "id": "b75f32574f4cf7d7",
   "outputs": [
    {
     "name": "stdout",
     "output_type": "stream",
     "text": [
      "Maximum Profit: 5\n"
     ]
    }
   ],
   "execution_count": 25
  },
  {
   "metadata": {
    "ExecuteTime": {
     "end_time": "2025-09-03T07:06:27.854559Z",
     "start_time": "2025-09-03T07:06:27.837842Z"
    }
   },
   "cell_type": "code",
   "source": [
    "def move_zeros(arr):\n",
    "    new_arr=[]\n",
    "    n= len(arr)\n",
    "    for i in range(n):\n",
    "        if arr[i] !=0:\n",
    "            new_arr.append(arr[i])\n",
    "    zeros=arr.count(0)\n",
    "    new_arr.extend([0]*zeros)\n",
    "    print(new_arr)\n",
    "\n",
    "arr= [0,1,0,3,12]\n",
    "move_zeros(arr)\n",
    "\n"
   ],
   "id": "801bbb4a0c506067",
   "outputs": [
    {
     "name": "stdout",
     "output_type": "stream",
     "text": [
      "[1, 3, 12, 0, 0]\n"
     ]
    }
   ],
   "execution_count": 34
  },
  {
   "metadata": {
    "ExecuteTime": {
     "end_time": "2025-09-03T08:07:22.159347Z",
     "start_time": "2025-09-03T08:07:22.128319Z"
    }
   },
   "cell_type": "code",
   "source": [
    "def majorityElement(arr):\n",
    "    n=len(arr)\n",
    "    count=0\n",
    "    for i in range(n):\n",
    "        for j in range(i+1,n):\n",
    "            if arr[i]==arr[j]:\n",
    "                count+=1\n",
    "                if count>len(arr)/2:\n",
    "                    return arr[i]\n",
    "arr=[2,2,1,1,1,2,2]\n",
    "majorityElement(arr)\n"
   ],
   "id": "a9176ed4487b2a61",
   "outputs": [
    {
     "data": {
      "text/plain": [
       "2"
      ]
     },
     "execution_count": 35,
     "metadata": {},
     "output_type": "execute_result"
    }
   ],
   "execution_count": 35
  },
  {
   "metadata": {},
   "cell_type": "code",
   "outputs": [],
   "execution_count": null,
   "source": "",
   "id": "93d5ad770d63a361"
  }
 ],
 "metadata": {
  "kernelspec": {
   "display_name": "Python 3",
   "language": "python",
   "name": "python3"
  },
  "language_info": {
   "codemirror_mode": {
    "name": "ipython",
    "version": 2
   },
   "file_extension": ".py",
   "mimetype": "text/x-python",
   "name": "python",
   "nbconvert_exporter": "python",
   "pygments_lexer": "ipython2",
   "version": "2.7.6"
  }
 },
 "nbformat": 4,
 "nbformat_minor": 5
}
