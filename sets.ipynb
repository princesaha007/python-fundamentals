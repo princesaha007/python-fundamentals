{
 "cells": [
  {
   "metadata": {},
   "cell_type": "markdown",
   "source": [
    "RULES\n",
    "# 1 Sets do not allow duplicates\n",
    "# 2 Sets have no indexing/slicing\n",
    "# 3 Sets dont allow mutable data types\n",
    "# 4 Sets itselft is a mutable datatype"
   ],
   "id": "9cd954c109704f3f"
  },
  {
   "metadata": {},
   "cell_type": "markdown",
   "source": "create",
   "id": "6edafda34175085c"
  },
  {
   "cell_type": "code",
   "id": "initial_id",
   "metadata": {
    "collapsed": true,
    "ExecuteTime": {
     "end_time": "2025-08-28T08:35:53.830804Z",
     "start_time": "2025-08-28T08:35:53.824247Z"
    }
   },
   "source": "S1= {}",
   "outputs": [],
   "execution_count": 1
  },
  {
   "metadata": {
    "ExecuteTime": {
     "end_time": "2025-08-28T08:35:58.914112Z",
     "start_time": "2025-08-28T08:35:58.905055Z"
    }
   },
   "cell_type": "code",
   "source": "type(S1)",
   "id": "efd543c0a3adb005",
   "outputs": [
    {
     "data": {
      "text/plain": [
       "dict"
      ]
     },
     "execution_count": 2,
     "metadata": {},
     "output_type": "execute_result"
    }
   ],
   "execution_count": 2
  },
  {
   "metadata": {
    "ExecuteTime": {
     "end_time": "2025-08-28T08:36:28.558887Z",
     "start_time": "2025-08-28T08:36:28.551552Z"
    }
   },
   "cell_type": "code",
   "source": [
    "S1= set()\n",
    "type(S1)"
   ],
   "id": "e1b781c23f802ce1",
   "outputs": [
    {
     "data": {
      "text/plain": [
       "set"
      ]
     },
     "execution_count": 3,
     "metadata": {},
     "output_type": "execute_result"
    }
   ],
   "execution_count": 3
  },
  {
   "metadata": {
    "ExecuteTime": {
     "end_time": "2025-08-28T08:37:13.968159Z",
     "start_time": "2025-08-28T08:37:13.962876Z"
    }
   },
   "cell_type": "code",
   "source": [
    "S1={1,2,3,4,5}\n",
    "print(S1)"
   ],
   "id": "963a2557a43b1362",
   "outputs": [
    {
     "name": "stdout",
     "output_type": "stream",
     "text": [
      "{1, 2, 3, 4, 5}\n"
     ]
    }
   ],
   "execution_count": 4
  },
  {
   "metadata": {
    "ExecuteTime": {
     "end_time": "2025-08-28T08:37:48.690687Z",
     "start_time": "2025-08-28T08:37:48.686136Z"
    }
   },
   "cell_type": "code",
   "source": [
    "S2= {1,2,\"hello\",1.5}\n",
    "print(S2)"
   ],
   "id": "ce3fb371f91f578d",
   "outputs": [
    {
     "name": "stdout",
     "output_type": "stream",
     "text": [
      "{1, 2, 'hello', 1.5}\n"
     ]
    }
   ],
   "execution_count": 5
  },
  {
   "metadata": {},
   "cell_type": "markdown",
   "source": "Doesnt allow duplictaes",
   "id": "68a50689652dfcdc"
  },
  {
   "metadata": {
    "ExecuteTime": {
     "end_time": "2025-08-28T08:38:35.676358Z",
     "start_time": "2025-08-28T08:38:35.667797Z"
    }
   },
   "cell_type": "code",
   "source": [
    "S3={1,1,2,2,3,3,4,4,5,5}\n",
    "print(S3)"
   ],
   "id": "5315c57005663eec",
   "outputs": [
    {
     "name": "stdout",
     "output_type": "stream",
     "text": [
      "{1, 2, 3, 4, 5}\n"
     ]
    }
   ],
   "execution_count": 6
  },
  {
   "metadata": {},
   "cell_type": "markdown",
   "source": "cant indexing",
   "id": "4edb91f300df40e"
  },
  {
   "metadata": {
    "ExecuteTime": {
     "end_time": "2025-08-28T08:39:09.096852Z",
     "start_time": "2025-08-28T08:39:08.783912Z"
    }
   },
   "cell_type": "code",
   "source": "S3[0]",
   "id": "66329de1e19ad148",
   "outputs": [
    {
     "ename": "TypeError",
     "evalue": "'set' object is not subscriptable",
     "output_type": "error",
     "traceback": [
      "\u001B[31m---------------------------------------------------------------------------\u001B[39m",
      "\u001B[31mTypeError\u001B[39m                                 Traceback (most recent call last)",
      "\u001B[36mCell\u001B[39m\u001B[36m \u001B[39m\u001B[32mIn[7]\u001B[39m\u001B[32m, line 1\u001B[39m\n\u001B[32m----> \u001B[39m\u001B[32m1\u001B[39m \u001B[43mS3\u001B[49m\u001B[43m[\u001B[49m\u001B[32;43m0\u001B[39;49m\u001B[43m]\u001B[49m\n",
      "\u001B[31mTypeError\u001B[39m: 'set' object is not subscriptable"
     ]
    }
   ],
   "execution_count": 7
  },
  {
   "metadata": {},
   "cell_type": "markdown",
   "source": "cant edit",
   "id": "f9151aa66327c9bb"
  },
  {
   "metadata": {
    "ExecuteTime": {
     "end_time": "2025-08-28T08:43:58.417417Z",
     "start_time": "2025-08-28T08:43:58.386913Z"
    }
   },
   "cell_type": "code",
   "source": " S3[1]=100",
   "id": "4a12d5ab98a0d5e4",
   "outputs": [
    {
     "ename": "TypeError",
     "evalue": "'set' object does not support item assignment",
     "output_type": "error",
     "traceback": [
      "\u001B[31m---------------------------------------------------------------------------\u001B[39m",
      "\u001B[31mTypeError\u001B[39m                                 Traceback (most recent call last)",
      "\u001B[36mCell\u001B[39m\u001B[36m \u001B[39m\u001B[32mIn[8]\u001B[39m\u001B[32m, line 1\u001B[39m\n\u001B[32m----> \u001B[39m\u001B[32m1\u001B[39m \u001B[43mS3\u001B[49m\u001B[43m[\u001B[49m\u001B[32;43m1\u001B[39;49m\u001B[43m]\u001B[49m=\u001B[32m100\u001B[39m\n",
      "\u001B[31mTypeError\u001B[39m: 'set' object does not support item assignment"
     ]
    }
   ],
   "execution_count": 8
  },
  {
   "metadata": {},
   "cell_type": "markdown",
   "source": "can add only",
   "id": "b9d04bb59fc6dd5e"
  },
  {
   "metadata": {
    "ExecuteTime": {
     "end_time": "2025-08-28T08:45:59.717229Z",
     "start_time": "2025-08-28T08:45:59.707758Z"
    }
   },
   "cell_type": "code",
   "source": [
    "S1= {1,2,3,4,5}\n",
    "S1.add(9)\n",
    "print(S1)"
   ],
   "id": "285114441387954e",
   "outputs": [
    {
     "name": "stdout",
     "output_type": "stream",
     "text": [
      "{1, 2, 3, 4, 5, 9}\n"
     ]
    }
   ],
   "execution_count": 10
  },
  {
   "metadata": {},
   "cell_type": "markdown",
   "source": "can delete",
   "id": "5c5e35dd25e22f8d"
  },
  {
   "metadata": {
    "ExecuteTime": {
     "end_time": "2025-08-28T08:46:53.298993Z",
     "start_time": "2025-08-28T08:46:53.293642Z"
    }
   },
   "cell_type": "code",
   "source": "print(S2)",
   "id": "e309b8087d6c70d4",
   "outputs": [
    {
     "name": "stdout",
     "output_type": "stream",
     "text": [
      "{1, 2, 'hello', 1.5}\n"
     ]
    }
   ],
   "execution_count": 11
  },
  {
   "metadata": {
    "ExecuteTime": {
     "end_time": "2025-08-28T08:47:01.765865Z",
     "start_time": "2025-08-28T08:47:01.754898Z"
    }
   },
   "cell_type": "code",
   "source": "del S2",
   "id": "29c544f587493dc1",
   "outputs": [],
   "execution_count": 12
  },
  {
   "metadata": {
    "ExecuteTime": {
     "end_time": "2025-08-28T08:47:09.251083Z",
     "start_time": "2025-08-28T08:47:09.223607Z"
    }
   },
   "cell_type": "code",
   "source": "print(S2)",
   "id": "4e8e0c82cca53a91",
   "outputs": [
    {
     "ename": "NameError",
     "evalue": "name 'S2' is not defined",
     "output_type": "error",
     "traceback": [
      "\u001B[31m---------------------------------------------------------------------------\u001B[39m",
      "\u001B[31mNameError\u001B[39m                                 Traceback (most recent call last)",
      "\u001B[36mCell\u001B[39m\u001B[36m \u001B[39m\u001B[32mIn[13]\u001B[39m\u001B[32m, line 1\u001B[39m\n\u001B[32m----> \u001B[39m\u001B[32m1\u001B[39m \u001B[38;5;28mprint\u001B[39m(\u001B[43mS2\u001B[49m)\n",
      "\u001B[31mNameError\u001B[39m: name 'S2' is not defined"
     ]
    }
   ],
   "execution_count": 13
  },
  {
   "metadata": {
    "ExecuteTime": {
     "end_time": "2025-08-28T08:47:35.900965Z",
     "start_time": "2025-08-28T08:47:35.894623Z"
    }
   },
   "cell_type": "code",
   "source": [
    "S1.remove(4)\n",
    "print(S1)"
   ],
   "id": "58592ae97a8cc00a",
   "outputs": [
    {
     "name": "stdout",
     "output_type": "stream",
     "text": [
      "{1, 2, 3, 5, 9}\n"
     ]
    }
   ],
   "execution_count": 14
  },
  {
   "metadata": {
    "ExecuteTime": {
     "end_time": "2025-08-28T08:47:56.169676Z",
     "start_time": "2025-08-28T08:47:56.163203Z"
    }
   },
   "cell_type": "code",
   "source": "S1.pop()",
   "id": "3fe58854d3ea9076",
   "outputs": [
    {
     "data": {
      "text/plain": [
       "1"
      ]
     },
     "execution_count": 15,
     "metadata": {},
     "output_type": "execute_result"
    }
   ],
   "execution_count": 15
  },
  {
   "metadata": {
    "ExecuteTime": {
     "end_time": "2025-08-28T08:48:14.316587Z",
     "start_time": "2025-08-28T08:48:14.309974Z"
    }
   },
   "cell_type": "code",
   "source": "S1.pop()",
   "id": "54c19b69539e031e",
   "outputs": [
    {
     "data": {
      "text/plain": [
       "2"
      ]
     },
     "execution_count": 16,
     "metadata": {},
     "output_type": "execute_result"
    }
   ],
   "execution_count": 16
  },
  {
   "metadata": {},
   "cell_type": "markdown",
   "source": "cant concatinate, cant multiply",
   "id": "729c9d301d1bbc9a"
  },
  {
   "metadata": {},
   "cell_type": "markdown",
   "source": "can iterate loop",
   "id": "b69ed13e3bd05f8"
  },
  {
   "metadata": {
    "ExecuteTime": {
     "end_time": "2025-08-28T08:49:12.647908Z",
     "start_time": "2025-08-28T08:49:12.639376Z"
    }
   },
   "cell_type": "code",
   "source": [
    "print(S1)\n",
    "1 in S1"
   ],
   "id": "d3e361135df91fe5",
   "outputs": [
    {
     "name": "stdout",
     "output_type": "stream",
     "text": [
      "{3, 5, 9}\n"
     ]
    },
    {
     "data": {
      "text/plain": [
       "False"
      ]
     },
     "execution_count": 18,
     "metadata": {},
     "output_type": "execute_result"
    }
   ],
   "execution_count": 18
  },
  {
   "metadata": {
    "ExecuteTime": {
     "end_time": "2025-08-28T08:49:25.581136Z",
     "start_time": "2025-08-28T08:49:25.573982Z"
    }
   },
   "cell_type": "code",
   "source": "sum(S1)",
   "id": "b7544c76ffededc4",
   "outputs": [
    {
     "data": {
      "text/plain": [
       "17"
      ]
     },
     "execution_count": 19,
     "metadata": {},
     "output_type": "execute_result"
    }
   ],
   "execution_count": 19
  },
  {
   "metadata": {
    "ExecuteTime": {
     "end_time": "2025-08-28T08:49:55.741507Z",
     "start_time": "2025-08-28T08:49:55.736760Z"
    }
   },
   "cell_type": "code",
   "source": "S3={1,2,3,4,5}",
   "id": "b017c63110da3309",
   "outputs": [],
   "execution_count": 21
  },
  {
   "metadata": {
    "ExecuteTime": {
     "end_time": "2025-08-28T08:50:12.921739Z",
     "start_time": "2025-08-28T08:50:12.915941Z"
    }
   },
   "cell_type": "code",
   "source": "S1.union(S3)",
   "id": "2f264d7340a48e72",
   "outputs": [
    {
     "data": {
      "text/plain": [
       "{1, 2, 3, 4, 5, 9}"
      ]
     },
     "execution_count": 22,
     "metadata": {},
     "output_type": "execute_result"
    }
   ],
   "execution_count": 22
  },
  {
   "metadata": {
    "ExecuteTime": {
     "end_time": "2025-08-28T08:50:32.329611Z",
     "start_time": "2025-08-28T08:50:32.321452Z"
    }
   },
   "cell_type": "code",
   "source": "S1.intersection(S3)",
   "id": "aca8374b69610f28",
   "outputs": [
    {
     "data": {
      "text/plain": [
       "{3, 5}"
      ]
     },
     "execution_count": 23,
     "metadata": {},
     "output_type": "execute_result"
    }
   ],
   "execution_count": 23
  },
  {
   "metadata": {},
   "cell_type": "markdown",
   "source": "exist in S1 but not in S2",
   "id": "92a098777484b1a7"
  },
  {
   "metadata": {
    "ExecuteTime": {
     "end_time": "2025-08-28T08:50:52.953722Z",
     "start_time": "2025-08-28T08:50:52.946926Z"
    }
   },
   "cell_type": "code",
   "source": "S1.difference(S3)",
   "id": "814c9c801d7781f6",
   "outputs": [
    {
     "data": {
      "text/plain": [
       "{9}"
      ]
     },
     "execution_count": 24,
     "metadata": {},
     "output_type": "execute_result"
    }
   ],
   "execution_count": 24
  },
  {
   "metadata": {},
   "cell_type": "markdown",
   "source": "exist in S3 but not in S1",
   "id": "4d3a95f13a5b5104"
  },
  {
   "metadata": {
    "ExecuteTime": {
     "end_time": "2025-08-28T08:51:42.304644Z",
     "start_time": "2025-08-28T08:51:42.298846Z"
    }
   },
   "cell_type": "code",
   "source": "S3.difference(S1)",
   "id": "97c06a868b928dcd",
   "outputs": [
    {
     "data": {
      "text/plain": [
       "{1, 2, 4}"
      ]
     },
     "execution_count": 25,
     "metadata": {},
     "output_type": "execute_result"
    }
   ],
   "execution_count": 25
  },
  {
   "metadata": {
    "ExecuteTime": {
     "end_time": "2025-08-28T08:52:22.109839Z",
     "start_time": "2025-08-28T08:52:22.101529Z"
    }
   },
   "cell_type": "code",
   "source": "S1.isdisjoint(S3)",
   "id": "c9a19d8ac8fe9a0b",
   "outputs": [
    {
     "data": {
      "text/plain": [
       "False"
      ]
     },
     "execution_count": 28,
     "metadata": {},
     "output_type": "execute_result"
    }
   ],
   "execution_count": 28
  },
  {
   "metadata": {
    "ExecuteTime": {
     "end_time": "2025-08-28T08:53:07.518332Z",
     "start_time": "2025-08-28T08:53:07.512164Z"
    }
   },
   "cell_type": "code",
   "source": "S1.issubset(S3)",
   "id": "4aad9af9e18886d6",
   "outputs": [
    {
     "data": {
      "text/plain": [
       "False"
      ]
     },
     "execution_count": 29,
     "metadata": {},
     "output_type": "execute_result"
    }
   ],
   "execution_count": 29
  },
  {
   "metadata": {
    "ExecuteTime": {
     "end_time": "2025-08-28T08:53:19.024619Z",
     "start_time": "2025-08-28T08:53:19.014296Z"
    }
   },
   "cell_type": "code",
   "source": "S1.issuperset(S3)",
   "id": "3c206c6e4a6b5de9",
   "outputs": [
    {
     "data": {
      "text/plain": [
       "False"
      ]
     },
     "execution_count": 30,
     "metadata": {},
     "output_type": "execute_result"
    }
   ],
   "execution_count": 30
  },
  {
   "metadata": {},
   "cell_type": "code",
   "outputs": [],
   "execution_count": null,
   "source": "",
   "id": "33c2874df79bab28"
  }
 ],
 "metadata": {
  "kernelspec": {
   "display_name": "Python 3",
   "language": "python",
   "name": "python3"
  },
  "language_info": {
   "codemirror_mode": {
    "name": "ipython",
    "version": 2
   },
   "file_extension": ".py",
   "mimetype": "text/x-python",
   "name": "python",
   "nbconvert_exporter": "python",
   "pygments_lexer": "ipython2",
   "version": "2.7.6"
  }
 },
 "nbformat": 4,
 "nbformat_minor": 5
}
