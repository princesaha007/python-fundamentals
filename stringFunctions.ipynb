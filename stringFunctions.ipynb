{
 "cells": [
  {
   "cell_type": "code",
   "id": "initial_id",
   "metadata": {
    "collapsed": true,
    "ExecuteTime": {
     "end_time": "2025-08-27T05:20:55.320909Z",
     "start_time": "2025-08-27T05:20:55.309661Z"
    }
   },
   "source": [
    "c = \"kolkata\"\n",
    "len(c)"
   ],
   "outputs": [
    {
     "data": {
      "text/plain": [
       "7"
      ]
     },
     "execution_count": 1,
     "metadata": {},
     "output_type": "execute_result"
    }
   ],
   "execution_count": 1
  },
  {
   "metadata": {
    "ExecuteTime": {
     "end_time": "2025-08-27T05:21:04.760774Z",
     "start_time": "2025-08-27T05:21:04.746693Z"
    }
   },
   "cell_type": "code",
   "source": "max(c)",
   "id": "aa45dbf9f1fea6f3",
   "outputs": [
    {
     "data": {
      "text/plain": [
       "'t'"
      ]
     },
     "execution_count": 2,
     "metadata": {},
     "output_type": "execute_result"
    }
   ],
   "execution_count": 2
  },
  {
   "metadata": {
    "ExecuteTime": {
     "end_time": "2025-08-27T05:21:11.021336Z",
     "start_time": "2025-08-27T05:21:11.012038Z"
    }
   },
   "cell_type": "code",
   "source": "min(c)",
   "id": "e649ed2b43b73993",
   "outputs": [
    {
     "data": {
      "text/plain": [
       "'a'"
      ]
     },
     "execution_count": 3,
     "metadata": {},
     "output_type": "execute_result"
    }
   ],
   "execution_count": 3
  },
  {
   "metadata": {
    "ExecuteTime": {
     "end_time": "2025-08-27T05:21:40.923090Z",
     "start_time": "2025-08-27T05:21:40.912329Z"
    }
   },
   "cell_type": "code",
   "source": "sorted(c)",
   "id": "e27547215f10465e",
   "outputs": [
    {
     "data": {
      "text/plain": [
       "['a', 'a', 'k', 'k', 'l', 'o', 't']"
      ]
     },
     "execution_count": 4,
     "metadata": {},
     "output_type": "execute_result"
    }
   ],
   "execution_count": 4
  },
  {
   "metadata": {
    "ExecuteTime": {
     "end_time": "2025-08-27T05:22:23.552065Z",
     "start_time": "2025-08-27T05:22:23.542361Z"
    }
   },
   "cell_type": "code",
   "source": "sorted(c,reverse=True)",
   "id": "c555a94728ac96f4",
   "outputs": [
    {
     "data": {
      "text/plain": [
       "['t', 'o', 'l', 'k', 'k', 'a', 'a']"
      ]
     },
     "execution_count": 5,
     "metadata": {},
     "output_type": "execute_result"
    }
   ],
   "execution_count": 5
  },
  {
   "metadata": {},
   "cell_type": "markdown",
   "source": "Cpatalize",
   "id": "2608c8729cfb5464"
  },
  {
   "metadata": {
    "ExecuteTime": {
     "end_time": "2025-08-27T05:23:10.318143Z",
     "start_time": "2025-08-27T05:23:10.308116Z"
    }
   },
   "cell_type": "code",
   "source": "c",
   "id": "fcf1fb4b3cd1dba3",
   "outputs": [
    {
     "data": {
      "text/plain": [
       "'kolkata'"
      ]
     },
     "execution_count": 6,
     "metadata": {},
     "output_type": "execute_result"
    }
   ],
   "execution_count": 6
  },
  {
   "metadata": {
    "ExecuteTime": {
     "end_time": "2025-08-27T05:23:41.830562Z",
     "start_time": "2025-08-27T05:23:41.819899Z"
    }
   },
   "cell_type": "code",
   "source": "c.capitalize()",
   "id": "9073487f85aecbe7",
   "outputs": [
    {
     "data": {
      "text/plain": [
       "'Kolkata'"
      ]
     },
     "execution_count": 8,
     "metadata": {},
     "output_type": "execute_result"
    }
   ],
   "execution_count": 8
  },
  {
   "metadata": {
    "ExecuteTime": {
     "end_time": "2025-08-27T05:24:27.583241Z",
     "start_time": "2025-08-27T05:24:27.572776Z"
    }
   },
   "cell_type": "code",
   "source": "\"it is raining\".capitalize()",
   "id": "4b09a2f50b98cb52",
   "outputs": [
    {
     "data": {
      "text/plain": [
       "'It is raining'"
      ]
     },
     "execution_count": 9,
     "metadata": {},
     "output_type": "execute_result"
    }
   ],
   "execution_count": 9
  },
  {
   "metadata": {},
   "cell_type": "markdown",
   "source": "title()\n",
   "id": "fb262f60d86288fa"
  },
  {
   "metadata": {
    "ExecuteTime": {
     "end_time": "2025-08-27T05:24:56.280211Z",
     "start_time": "2025-08-27T05:24:56.270929Z"
    }
   },
   "cell_type": "code",
   "source": "\"it is raining\".title()",
   "id": "e72e218c717f18e7",
   "outputs": [
    {
     "data": {
      "text/plain": [
       "'It Is Raining'"
      ]
     },
     "execution_count": 10,
     "metadata": {},
     "output_type": "execute_result"
    }
   ],
   "execution_count": 10
  },
  {
   "metadata": {
    "ExecuteTime": {
     "end_time": "2025-08-27T05:25:48.868563Z",
     "start_time": "2025-08-27T05:25:48.858257Z"
    }
   },
   "cell_type": "code",
   "source": "c.upper()",
   "id": "472f0c57d51f08d0",
   "outputs": [
    {
     "data": {
      "text/plain": [
       "'KOLKATA'"
      ]
     },
     "execution_count": 11,
     "metadata": {},
     "output_type": "execute_result"
    }
   ],
   "execution_count": 11
  },
  {
   "metadata": {
    "ExecuteTime": {
     "end_time": "2025-08-27T05:25:55.684248Z",
     "start_time": "2025-08-27T05:25:55.674968Z"
    }
   },
   "cell_type": "code",
   "source": "c.lower()",
   "id": "41b968ce63529c89",
   "outputs": [
    {
     "data": {
      "text/plain": [
       "'kolkata'"
      ]
     },
     "execution_count": 12,
     "metadata": {},
     "output_type": "execute_result"
    }
   ],
   "execution_count": 12
  },
  {
   "metadata": {
    "ExecuteTime": {
     "end_time": "2025-08-27T05:26:06.335072Z",
     "start_time": "2025-08-27T05:26:06.324657Z"
    }
   },
   "cell_type": "code",
   "source": "c.upper().lower()",
   "id": "6cd58e06692e0537",
   "outputs": [
    {
     "data": {
      "text/plain": [
       "'kolkata'"
      ]
     },
     "execution_count": 13,
     "metadata": {},
     "output_type": "execute_result"
    }
   ],
   "execution_count": 13
  },
  {
   "metadata": {
    "ExecuteTime": {
     "end_time": "2025-08-27T05:26:43.549797Z",
     "start_time": "2025-08-27T05:26:43.538882Z"
    }
   },
   "cell_type": "code",
   "source": "\"kolkAtA\".swapcase()",
   "id": "f7512e6ce40a56a4",
   "outputs": [
    {
     "data": {
      "text/plain": [
       "'KOLKaTa'"
      ]
     },
     "execution_count": 14,
     "metadata": {},
     "output_type": "execute_result"
    }
   ],
   "execution_count": 14
  },
  {
   "metadata": {},
   "cell_type": "markdown",
   "source": "Count",
   "id": "dc4c3ee4e21c04a6"
  },
  {
   "metadata": {
    "ExecuteTime": {
     "end_time": "2025-08-27T05:27:26.715037Z",
     "start_time": "2025-08-27T05:27:26.707401Z"
    }
   },
   "cell_type": "code",
   "source": "\"it is raining\".count(\"i\")",
   "id": "af11991800d51ff9",
   "outputs": [
    {
     "data": {
      "text/plain": [
       "4"
      ]
     },
     "execution_count": 16,
     "metadata": {},
     "output_type": "execute_result"
    }
   ],
   "execution_count": 16
  },
  {
   "metadata": {},
   "cell_type": "markdown",
   "source": "find/index , it finds the position",
   "id": "3643487354f9703c"
  },
  {
   "metadata": {
    "ExecuteTime": {
     "end_time": "2025-08-27T05:28:51.781741Z",
     "start_time": "2025-08-27T05:28:51.772147Z"
    }
   },
   "cell_type": "code",
   "source": "\"it is raining\".find(\"rain\")",
   "id": "84f92a47a15715ce",
   "outputs": [
    {
     "data": {
      "text/plain": [
       "6"
      ]
     },
     "execution_count": 17,
     "metadata": {},
     "output_type": "execute_result"
    }
   ],
   "execution_count": 17
  },
  {
   "metadata": {
    "ExecuteTime": {
     "end_time": "2025-08-27T05:29:03.708009Z",
     "start_time": "2025-08-27T05:29:03.700539Z"
    }
   },
   "cell_type": "code",
   "source": "\"it is raining\".index(\"rain\")",
   "id": "7da8fd2c6759a08a",
   "outputs": [
    {
     "data": {
      "text/plain": [
       "6"
      ]
     },
     "execution_count": 18,
     "metadata": {},
     "output_type": "execute_result"
    }
   ],
   "execution_count": 18
  },
  {
   "metadata": {},
   "cell_type": "markdown",
   "source": "enswith/startswith\n",
   "id": "d973b2572183344b"
  },
  {
   "metadata": {
    "ExecuteTime": {
     "end_time": "2025-08-27T05:30:27.278902Z",
     "start_time": "2025-08-27T05:30:27.267684Z"
    }
   },
   "cell_type": "code",
   "source": "\"it is raining\".endswith(\"ing\")",
   "id": "7eac674042a30163",
   "outputs": [
    {
     "data": {
      "text/plain": [
       "True"
      ]
     },
     "execution_count": 19,
     "metadata": {},
     "output_type": "execute_result"
    }
   ],
   "execution_count": 19
  },
  {
   "metadata": {
    "ExecuteTime": {
     "end_time": "2025-08-27T05:30:40.755273Z",
     "start_time": "2025-08-27T05:30:40.744238Z"
    }
   },
   "cell_type": "code",
   "source": "\"it is raining\".endswith(\"fgr\")",
   "id": "2d6bb9669c1cd25",
   "outputs": [
    {
     "data": {
      "text/plain": [
       "False"
      ]
     },
     "execution_count": 20,
     "metadata": {},
     "output_type": "execute_result"
    }
   ],
   "execution_count": 20
  },
  {
   "metadata": {
    "ExecuteTime": {
     "end_time": "2025-08-27T05:30:54.151443Z",
     "start_time": "2025-08-27T05:30:54.141484Z"
    }
   },
   "cell_type": "code",
   "source": "\"it is raining\".startswith(\"ing\")",
   "id": "12ab9a3d3e2eb9c3",
   "outputs": [
    {
     "data": {
      "text/plain": [
       "False"
      ]
     },
     "execution_count": 21,
     "metadata": {},
     "output_type": "execute_result"
    }
   ],
   "execution_count": 21
  },
  {
   "metadata": {
    "ExecuteTime": {
     "end_time": "2025-08-27T05:31:17.910507Z",
     "start_time": "2025-08-27T05:31:17.900479Z"
    }
   },
   "cell_type": "code",
   "source": "\"it is raining\".startswith(\"i\")",
   "id": "4ea097b967bf2914",
   "outputs": [
    {
     "data": {
      "text/plain": [
       "True"
      ]
     },
     "execution_count": 23,
     "metadata": {},
     "output_type": "execute_result"
    }
   ],
   "execution_count": 23
  },
  {
   "metadata": {},
   "cell_type": "markdown",
   "source": "format\n",
   "id": "4d54b3427af4386e"
  },
  {
   "metadata": {
    "ExecuteTime": {
     "end_time": "2025-08-27T05:32:49.111756Z",
     "start_time": "2025-08-27T05:32:49.103067Z"
    }
   },
   "cell_type": "code",
   "source": "\"hello my name is {} and i am {}\".format(\"prince\", 25)",
   "id": "c1c3328877b89e03",
   "outputs": [
    {
     "data": {
      "text/plain": [
       "'hello my name is prince and i am 25'"
      ]
     },
     "execution_count": 24,
     "metadata": {},
     "output_type": "execute_result"
    }
   ],
   "execution_count": 24
  },
  {
   "metadata": {
    "ExecuteTime": {
     "end_time": "2025-08-27T05:33:20.638160Z",
     "start_time": "2025-08-27T05:33:20.630982Z"
    }
   },
   "cell_type": "code",
   "source": "\"hello my name is {1} and i am {0}\".format(\"prince\", 25)",
   "id": "d736c002d7e8a50e",
   "outputs": [
    {
     "data": {
      "text/plain": [
       "'hello my name is 25 and i am prince'"
      ]
     },
     "execution_count": 25,
     "metadata": {},
     "output_type": "execute_result"
    }
   ],
   "execution_count": 25
  },
  {
   "metadata": {
    "ExecuteTime": {
     "end_time": "2025-08-27T05:34:09.310077Z",
     "start_time": "2025-08-27T05:34:09.302024Z"
    }
   },
   "cell_type": "code",
   "source": "\"hello my name is {name} and i am {age}\".format(name= \"prince\", age=25)",
   "id": "4e2cb47cdb8461d2",
   "outputs": [
    {
     "data": {
      "text/plain": [
       "'hello my name is prince and i am 25'"
      ]
     },
     "execution_count": 26,
     "metadata": {},
     "output_type": "execute_result"
    }
   ],
   "execution_count": 26
  },
  {
   "metadata": {},
   "cell_type": "markdown",
   "source": "functions for validation",
   "id": "508102f1d3226c3"
  },
  {
   "metadata": {
    "ExecuteTime": {
     "end_time": "2025-08-27T05:36:53.020947Z",
     "start_time": "2025-08-27T05:36:53.011238Z"
    }
   },
   "cell_type": "code",
   "source": "\"FLAT20\".isalnum()",
   "id": "7038cd506a6809b6",
   "outputs": [
    {
     "data": {
      "text/plain": [
       "True"
      ]
     },
     "execution_count": 27,
     "metadata": {},
     "output_type": "execute_result"
    }
   ],
   "execution_count": 27
  },
  {
   "metadata": {
    "ExecuteTime": {
     "end_time": "2025-08-27T05:37:03.708393Z",
     "start_time": "2025-08-27T05:37:03.701127Z"
    }
   },
   "cell_type": "code",
   "source": "\"FLAT20&\".isalnum()",
   "id": "81a9850cb6d130a4",
   "outputs": [
    {
     "data": {
      "text/plain": [
       "False"
      ]
     },
     "execution_count": 28,
     "metadata": {},
     "output_type": "execute_result"
    }
   ],
   "execution_count": 28
  },
  {
   "metadata": {
    "ExecuteTime": {
     "end_time": "2025-08-27T05:37:53.914110Z",
     "start_time": "2025-08-27T05:37:53.903909Z"
    }
   },
   "cell_type": "code",
   "source": "\"FLAT20\".isalpha()",
   "id": "9b71b65fc7951dba",
   "outputs": [
    {
     "data": {
      "text/plain": [
       "False"
      ]
     },
     "execution_count": 29,
     "metadata": {},
     "output_type": "execute_result"
    }
   ],
   "execution_count": 29
  },
  {
   "metadata": {
    "ExecuteTime": {
     "end_time": "2025-08-27T05:38:03.518998Z",
     "start_time": "2025-08-27T05:38:03.509277Z"
    }
   },
   "cell_type": "code",
   "source": "\"FLAT\".isalpha()",
   "id": "4f585666a29fcd88",
   "outputs": [
    {
     "data": {
      "text/plain": [
       "True"
      ]
     },
     "execution_count": 30,
     "metadata": {},
     "output_type": "execute_result"
    }
   ],
   "execution_count": 30
  },
  {
   "metadata": {
    "ExecuteTime": {
     "end_time": "2025-08-27T05:55:49.829702Z",
     "start_time": "2025-08-27T05:55:49.820158Z"
    }
   },
   "cell_type": "code",
   "source": "\"hello world\".isidentifier()",
   "id": "290246b4a14d6e88",
   "outputs": [
    {
     "data": {
      "text/plain": [
       "False"
      ]
     },
     "execution_count": 31,
     "metadata": {},
     "output_type": "execute_result"
    }
   ],
   "execution_count": 31
  },
  {
   "metadata": {
    "ExecuteTime": {
     "end_time": "2025-08-27T05:56:00.520989Z",
     "start_time": "2025-08-27T05:56:00.512724Z"
    }
   },
   "cell_type": "code",
   "source": "\"hello_world\".isidentifier()",
   "id": "993a386c1f054cb1",
   "outputs": [
    {
     "data": {
      "text/plain": [
       "True"
      ]
     },
     "execution_count": 32,
     "metadata": {},
     "output_type": "execute_result"
    }
   ],
   "execution_count": 32
  },
  {
   "metadata": {},
   "cell_type": "markdown",
   "source": "split\n",
   "id": "5cc0dbc5a8f933a4"
  },
  {
   "metadata": {
    "ExecuteTime": {
     "end_time": "2025-08-27T05:56:29.678208Z",
     "start_time": "2025-08-27T05:56:29.669306Z"
    }
   },
   "cell_type": "code",
   "source": "\"who is the pm of bd\".split()",
   "id": "8a15f8bd6a8e4a3c",
   "outputs": [
    {
     "data": {
      "text/plain": [
       "['who', 'is', 'the', 'pm', 'of', 'bd']"
      ]
     },
     "execution_count": 33,
     "metadata": {},
     "output_type": "execute_result"
    }
   ],
   "execution_count": 33
  },
  {
   "metadata": {
    "ExecuteTime": {
     "end_time": "2025-08-27T05:57:05.398659Z",
     "start_time": "2025-08-27T05:57:05.388908Z"
    }
   },
   "cell_type": "code",
   "source": "\"who is the pm of bd\".split(\"pm\")",
   "id": "70baa375113e3ccb",
   "outputs": [
    {
     "data": {
      "text/plain": [
       "['who is the ', ' of bd']"
      ]
     },
     "execution_count": 34,
     "metadata": {},
     "output_type": "execute_result"
    }
   ],
   "execution_count": 34
  },
  {
   "metadata": {
    "ExecuteTime": {
     "end_time": "2025-08-27T05:57:25.761184Z",
     "start_time": "2025-08-27T05:57:25.752341Z"
    }
   },
   "cell_type": "code",
   "source": "\"who is the pm of bd\".split(\"i\")",
   "id": "e3cc52661a9e44da",
   "outputs": [
    {
     "data": {
      "text/plain": [
       "['who ', 's the pm of bd']"
      ]
     },
     "execution_count": 35,
     "metadata": {},
     "output_type": "execute_result"
    }
   ],
   "execution_count": 35
  },
  {
   "metadata": {},
   "cell_type": "markdown",
   "source": "join",
   "id": "cf6f964033aa765d"
  },
  {
   "metadata": {
    "ExecuteTime": {
     "end_time": "2025-08-27T05:58:18.174798Z",
     "start_time": "2025-08-27T05:58:18.164704Z"
    }
   },
   "cell_type": "code",
   "source": "\" \".join(['who', 'is', 'the', 'pm', 'of', 'bd'])",
   "id": "dff809f778624920",
   "outputs": [
    {
     "data": {
      "text/plain": [
       "'who is the pm of bd'"
      ]
     },
     "execution_count": 36,
     "metadata": {},
     "output_type": "execute_result"
    }
   ],
   "execution_count": 36
  },
  {
   "metadata": {
    "ExecuteTime": {
     "end_time": "2025-08-27T05:58:38.437525Z",
     "start_time": "2025-08-27T05:58:38.426994Z"
    }
   },
   "cell_type": "code",
   "source": "\"/\".join(['who', 'is', 'the', 'pm', 'of', 'bd'])",
   "id": "8ab2ac55eec8e2c0",
   "outputs": [
    {
     "data": {
      "text/plain": [
       "'who/is/the/pm/of/bd'"
      ]
     },
     "execution_count": 37,
     "metadata": {},
     "output_type": "execute_result"
    }
   ],
   "execution_count": 37
  },
  {
   "metadata": {
    "ExecuteTime": {
     "end_time": "2025-08-27T05:58:53.055211Z",
     "start_time": "2025-08-27T05:58:53.044190Z"
    }
   },
   "cell_type": "code",
   "source": "\".\".join(['who', 'is', 'the', 'pm', 'of', 'bd'])",
   "id": "a0b6743065447f9",
   "outputs": [
    {
     "data": {
      "text/plain": [
       "'who.is.the.pm.of.bd'"
      ]
     },
     "execution_count": 38,
     "metadata": {},
     "output_type": "execute_result"
    }
   ],
   "execution_count": 38
  },
  {
   "metadata": {},
   "cell_type": "markdown",
   "source": "replace",
   "id": "8b084b3ea5ef4e17"
  },
  {
   "metadata": {
    "ExecuteTime": {
     "end_time": "2025-08-27T05:59:39.358862Z",
     "start_time": "2025-08-27T05:59:39.349002Z"
    }
   },
   "cell_type": "code",
   "source": "\"Hi my name is prince\".replace(\"prince\", \"dipto\")",
   "id": "17cda3c851316e13",
   "outputs": [
    {
     "data": {
      "text/plain": [
       "'Hi my name is dipto'"
      ]
     },
     "execution_count": 39,
     "metadata": {},
     "output_type": "execute_result"
    }
   ],
   "execution_count": 39
  },
  {
   "metadata": {},
   "cell_type": "markdown",
   "source": "strip",
   "id": "398b9153c383c755"
  },
  {
   "metadata": {
    "ExecuteTime": {
     "end_time": "2025-08-27T06:02:08.803547Z",
     "start_time": "2025-08-27T06:02:08.795408Z"
    }
   },
   "cell_type": "code",
   "source": [
    "name=\"                     prince            \"\n",
    "print(name)\n",
    "name.strip()"
   ],
   "id": "166f6f08efba3548",
   "outputs": [
    {
     "name": "stdout",
     "output_type": "stream",
     "text": [
      "                     prince            \n"
     ]
    },
    {
     "data": {
      "text/plain": [
       "'prince'"
      ]
     },
     "execution_count": 42,
     "metadata": {},
     "output_type": "execute_result"
    }
   ],
   "execution_count": 42
  },
  {
   "metadata": {},
   "cell_type": "code",
   "outputs": [],
   "execution_count": null,
   "source": "",
   "id": "c31680fc91df28e8"
  }
 ],
 "metadata": {
  "kernelspec": {
   "display_name": "Python 3",
   "language": "python",
   "name": "python3"
  },
  "language_info": {
   "codemirror_mode": {
    "name": "ipython",
    "version": 2
   },
   "file_extension": ".py",
   "mimetype": "text/x-python",
   "name": "python",
   "nbconvert_exporter": "python",
   "pygments_lexer": "ipython2",
   "version": "2.7.6"
  }
 },
 "nbformat": 4,
 "nbformat_minor": 5
}
