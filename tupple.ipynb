{
 "cells": [
  {
   "cell_type": "code",
   "id": "initial_id",
   "metadata": {
    "collapsed": true,
    "ExecuteTime": {
     "end_time": "2025-08-28T08:05:22.881411Z",
     "start_time": "2025-08-28T08:05:22.874954Z"
    }
   },
   "source": [
    "T= (1,2,3,4,5)\n",
    "print(T)"
   ],
   "outputs": [
    {
     "name": "stdout",
     "output_type": "stream",
     "text": [
      "(1, 2, 3, 4, 5)\n"
     ]
    }
   ],
   "execution_count": 1
  },
  {
   "metadata": {
    "ExecuteTime": {
     "end_time": "2025-08-28T08:05:30.370479Z",
     "start_time": "2025-08-28T08:05:30.361819Z"
    }
   },
   "cell_type": "code",
   "source": "type(T)",
   "id": "ab4e6128e67db847",
   "outputs": [
    {
     "data": {
      "text/plain": [
       "tuple"
      ]
     },
     "execution_count": 2,
     "metadata": {},
     "output_type": "execute_result"
    }
   ],
   "execution_count": 2
  },
  {
   "metadata": {
    "ExecuteTime": {
     "end_time": "2025-08-28T08:06:15.278033Z",
     "start_time": "2025-08-28T08:06:15.271007Z"
    }
   },
   "cell_type": "code",
   "source": [
    "T2= (\"Hello\")\n",
    "type(T2)"
   ],
   "id": "b323b855e3300072",
   "outputs": [
    {
     "data": {
      "text/plain": [
       "str"
      ]
     },
     "execution_count": 4,
     "metadata": {},
     "output_type": "execute_result"
    }
   ],
   "execution_count": 4
  },
  {
   "metadata": {},
   "cell_type": "markdown",
   "source": "add **,** in the the last",
   "id": "aec439df430b73a1"
  },
  {
   "metadata": {
    "ExecuteTime": {
     "end_time": "2025-08-28T08:06:37.399478Z",
     "start_time": "2025-08-28T08:06:37.393222Z"
    }
   },
   "cell_type": "code",
   "source": [
    "T2=(\"Hello\",)\n",
    "type(T2)"
   ],
   "id": "70abcdbb2ce7b17",
   "outputs": [
    {
     "data": {
      "text/plain": [
       "tuple"
      ]
     },
     "execution_count": 5,
     "metadata": {},
     "output_type": "execute_result"
    }
   ],
   "execution_count": 5
  },
  {
   "metadata": {
    "ExecuteTime": {
     "end_time": "2025-08-28T08:07:48.779600Z",
     "start_time": "2025-08-28T08:07:48.773610Z"
    }
   },
   "cell_type": "code",
   "source": [
    "T3= tuple(\"Goa\")\n",
    "print(T3)"
   ],
   "id": "3e238d5c0f5c48f7",
   "outputs": [
    {
     "name": "stdout",
     "output_type": "stream",
     "text": [
      "('G', 'o', 'a')\n"
     ]
    }
   ],
   "execution_count": 9
  },
  {
   "metadata": {
    "ExecuteTime": {
     "end_time": "2025-08-28T08:08:33.593318Z",
     "start_time": "2025-08-28T08:08:33.588131Z"
    }
   },
   "cell_type": "code",
   "source": [
    "T2=(1,2,3,4,5)\n",
    "print(T2)"
   ],
   "id": "29bad2670f198e5f",
   "outputs": [
    {
     "name": "stdout",
     "output_type": "stream",
     "text": [
      "(1, 2, 3, 4, 5)\n"
     ]
    }
   ],
   "execution_count": 10
  },
  {
   "metadata": {},
   "cell_type": "markdown",
   "source": "Access",
   "id": "2cf5a9fa30c48121"
  },
  {
   "metadata": {
    "ExecuteTime": {
     "end_time": "2025-08-28T08:08:43.245727Z",
     "start_time": "2025-08-28T08:08:43.239291Z"
    }
   },
   "cell_type": "code",
   "source": "T2[0]",
   "id": "bbaa0b1f558ead13",
   "outputs": [
    {
     "data": {
      "text/plain": [
       "1"
      ]
     },
     "execution_count": 11,
     "metadata": {},
     "output_type": "execute_result"
    }
   ],
   "execution_count": 11
  },
  {
   "metadata": {
    "ExecuteTime": {
     "end_time": "2025-08-28T08:08:48.488244Z",
     "start_time": "2025-08-28T08:08:48.482522Z"
    }
   },
   "cell_type": "code",
   "source": "T2[-1]",
   "id": "496d9d77135d7086",
   "outputs": [
    {
     "data": {
      "text/plain": [
       "5"
      ]
     },
     "execution_count": 12,
     "metadata": {},
     "output_type": "execute_result"
    }
   ],
   "execution_count": 12
  },
  {
   "metadata": {
    "ExecuteTime": {
     "end_time": "2025-08-28T08:08:53.016754Z",
     "start_time": "2025-08-28T08:08:53.010273Z"
    }
   },
   "cell_type": "code",
   "source": "T2[-2]",
   "id": "d9d40715529d2c41",
   "outputs": [
    {
     "data": {
      "text/plain": [
       "4"
      ]
     },
     "execution_count": 13,
     "metadata": {},
     "output_type": "execute_result"
    }
   ],
   "execution_count": 13
  },
  {
   "metadata": {
    "ExecuteTime": {
     "end_time": "2025-08-28T08:09:25.639558Z",
     "start_time": "2025-08-28T08:09:25.634221Z"
    }
   },
   "cell_type": "code",
   "source": "T2[:4]",
   "id": "ebd16f923340eccf",
   "outputs": [
    {
     "data": {
      "text/plain": [
       "(1, 2, 3, 4)"
      ]
     },
     "execution_count": 14,
     "metadata": {},
     "output_type": "execute_result"
    }
   ],
   "execution_count": 14
  },
  {
   "metadata": {
    "ExecuteTime": {
     "end_time": "2025-08-28T08:09:35.233496Z",
     "start_time": "2025-08-28T08:09:35.227194Z"
    }
   },
   "cell_type": "code",
   "source": "T2[2:]",
   "id": "a3d79347a36ad4ed",
   "outputs": [
    {
     "data": {
      "text/plain": [
       "(3, 4, 5)"
      ]
     },
     "execution_count": 15,
     "metadata": {},
     "output_type": "execute_result"
    }
   ],
   "execution_count": 15
  },
  {
   "metadata": {
    "ExecuteTime": {
     "end_time": "2025-08-28T08:16:54.740721Z",
     "start_time": "2025-08-28T08:16:54.735091Z"
    }
   },
   "cell_type": "code",
   "source": [
    "T4 = ((1, 2, 3), (4, 5, 6))\n",
    "print(T4[1][1])   # ✅ 5"
   ],
   "id": "9c2e38e9805a46a6",
   "outputs": [
    {
     "name": "stdout",
     "output_type": "stream",
     "text": [
      "5\n"
     ]
    }
   ],
   "execution_count": 27
  },
  {
   "metadata": {},
   "cell_type": "markdown",
   "source": "EDIT",
   "id": "fd981bc6ab668525"
  },
  {
   "metadata": {
    "ExecuteTime": {
     "end_time": "2025-08-28T08:21:50.963658Z",
     "start_time": "2025-08-28T08:21:50.958983Z"
    }
   },
   "cell_type": "code",
   "source": "list= [1,2,3,4,5,6]",
   "id": "a4057db9e82d6f8",
   "outputs": [],
   "execution_count": 28
  },
  {
   "metadata": {
    "ExecuteTime": {
     "end_time": "2025-08-28T08:22:06.072054Z",
     "start_time": "2025-08-28T08:22:06.068873Z"
    }
   },
   "cell_type": "code",
   "source": "list[0]=100",
   "id": "307450219e2344c8",
   "outputs": [],
   "execution_count": 29
  },
  {
   "metadata": {
    "ExecuteTime": {
     "end_time": "2025-08-28T08:22:14.275925Z",
     "start_time": "2025-08-28T08:22:14.267787Z"
    }
   },
   "cell_type": "code",
   "source": "print(list)",
   "id": "fd8a903e7a64160",
   "outputs": [
    {
     "name": "stdout",
     "output_type": "stream",
     "text": [
      "[100, 2, 3, 4, 5, 6]\n"
     ]
    }
   ],
   "execution_count": 30
  },
  {
   "metadata": {},
   "cell_type": "markdown",
   "source": "but unlike list tupple is inmutable, so no edit no add no delete",
   "id": "484df80be07fe350"
  },
  {
   "metadata": {
    "ExecuteTime": {
     "end_time": "2025-08-28T08:23:10.872686Z",
     "start_time": "2025-08-28T08:23:10.841536Z"
    }
   },
   "cell_type": "code",
   "source": [
    "T5= (1,2,3,4,5,6)\n",
    "T5[0]=100\n",
    "print(T5)"
   ],
   "id": "fcd8d13b1b532c5a",
   "outputs": [
    {
     "ename": "TypeError",
     "evalue": "'tuple' object does not support item assignment",
     "output_type": "error",
     "traceback": [
      "\u001B[31m---------------------------------------------------------------------------\u001B[39m",
      "\u001B[31mTypeError\u001B[39m                                 Traceback (most recent call last)",
      "\u001B[36mCell\u001B[39m\u001B[36m \u001B[39m\u001B[32mIn[31]\u001B[39m\u001B[32m, line 2\u001B[39m\n\u001B[32m      1\u001B[39m T5= (\u001B[32m1\u001B[39m,\u001B[32m2\u001B[39m,\u001B[32m3\u001B[39m,\u001B[32m4\u001B[39m,\u001B[32m5\u001B[39m,\u001B[32m6\u001B[39m)\n\u001B[32m----> \u001B[39m\u001B[32m2\u001B[39m \u001B[43mT5\u001B[49m\u001B[43m[\u001B[49m\u001B[32;43m0\u001B[39;49m\u001B[43m]\u001B[49m=\u001B[32m100\u001B[39m\n\u001B[32m      3\u001B[39m \u001B[38;5;28mprint\u001B[39m(T5)\n",
      "\u001B[31mTypeError\u001B[39m: 'tuple' object does not support item assignment"
     ]
    }
   ],
   "execution_count": 31
  },
  {
   "metadata": {
    "ExecuteTime": {
     "end_time": "2025-08-28T08:25:02.818201Z",
     "start_time": "2025-08-28T08:25:02.812406Z"
    }
   },
   "cell_type": "code",
   "source": [
    "T2+T3\n",
    "print(T2+T3)"
   ],
   "id": "5be4c17c2ebd6432",
   "outputs": [
    {
     "name": "stdout",
     "output_type": "stream",
     "text": [
      "(1, 2, 3, 4, 5, 'G', 'o', 'a')\n"
     ]
    }
   ],
   "execution_count": 32
  },
  {
   "metadata": {
    "ExecuteTime": {
     "end_time": "2025-08-28T08:25:27.621961Z",
     "start_time": "2025-08-28T08:25:27.614Z"
    }
   },
   "cell_type": "code",
   "source": "min(T2)",
   "id": "c099d2527968b92f",
   "outputs": [
    {
     "data": {
      "text/plain": [
       "1"
      ]
     },
     "execution_count": 34,
     "metadata": {},
     "output_type": "execute_result"
    }
   ],
   "execution_count": 34
  },
  {
   "metadata": {
    "ExecuteTime": {
     "end_time": "2025-08-28T08:25:39.049249Z",
     "start_time": "2025-08-28T08:25:39.043619Z"
    }
   },
   "cell_type": "code",
   "source": "max(T2)",
   "id": "27780218c935707a",
   "outputs": [
    {
     "data": {
      "text/plain": [
       "5"
      ]
     },
     "execution_count": 35,
     "metadata": {},
     "output_type": "execute_result"
    }
   ],
   "execution_count": 35
  },
  {
   "metadata": {
    "ExecuteTime": {
     "end_time": "2025-08-28T08:25:43.634284Z",
     "start_time": "2025-08-28T08:25:43.628702Z"
    }
   },
   "cell_type": "code",
   "source": "sum(T2)",
   "id": "5e73b8057a79f45b",
   "outputs": [
    {
     "data": {
      "text/plain": [
       "15"
      ]
     },
     "execution_count": 36,
     "metadata": {},
     "output_type": "execute_result"
    }
   ],
   "execution_count": 36
  },
  {
   "metadata": {
    "ExecuteTime": {
     "end_time": "2025-08-28T08:25:52.261723Z",
     "start_time": "2025-08-28T08:25:52.255267Z"
    }
   },
   "cell_type": "code",
   "source": "sorted(T2)",
   "id": "ac156d096b175128",
   "outputs": [
    {
     "data": {
      "text/plain": [
       "[1, 2, 3, 4, 5]"
      ]
     },
     "execution_count": 37,
     "metadata": {},
     "output_type": "execute_result"
    }
   ],
   "execution_count": 37
  },
  {
   "metadata": {
    "ExecuteTime": {
     "end_time": "2025-08-28T08:26:12.340037Z",
     "start_time": "2025-08-28T08:26:12.332774Z"
    }
   },
   "cell_type": "code",
   "source": "sorted(T2, reverse=True)",
   "id": "55c63f1720b81fe2",
   "outputs": [
    {
     "data": {
      "text/plain": [
       "[5, 4, 3, 2, 1]"
      ]
     },
     "execution_count": 38,
     "metadata": {},
     "output_type": "execute_result"
    }
   ],
   "execution_count": 38
  },
  {
   "metadata": {},
   "cell_type": "markdown",
   "source": "TUPPLES ARE READ-ONLY DATA TYPE",
   "id": "b2cb9f88d09cc220"
  },
  {
   "metadata": {},
   "cell_type": "code",
   "outputs": [],
   "execution_count": null,
   "source": "",
   "id": "a60c61a472f8044d"
  },
  {
   "metadata": {},
   "cell_type": "code",
   "outputs": [],
   "execution_count": null,
   "source": "",
   "id": "968a5916ecba1903"
  }
 ],
 "metadata": {
  "kernelspec": {
   "display_name": "Python 3",
   "language": "python",
   "name": "python3"
  },
  "language_info": {
   "codemirror_mode": {
    "name": "ipython",
    "version": 2
   },
   "file_extension": ".py",
   "mimetype": "text/x-python",
   "name": "python",
   "nbconvert_exporter": "python",
   "pygments_lexer": "ipython2",
   "version": "2.7.6"
  }
 },
 "nbformat": 4,
 "nbformat_minor": 5
}
