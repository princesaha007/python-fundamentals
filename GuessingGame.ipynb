{
 "cells": [
  {
   "cell_type": "code",
   "id": "initial_id",
   "metadata": {
    "collapsed": true,
    "ExecuteTime": {
     "end_time": "2025-08-27T04:35:00.988230Z",
     "start_time": "2025-08-27T04:35:00.980688Z"
    }
   },
   "source": "import random",
   "outputs": [],
   "execution_count": 1
  },
  {
   "metadata": {
    "ExecuteTime": {
     "end_time": "2025-08-27T04:36:17.463892Z",
     "start_time": "2025-08-27T04:35:56.642614Z"
    }
   },
   "cell_type": "code",
   "source": [
    "import random\n",
    "\n",
    "jackpot = random.randint(1, 100)\n",
    "\n",
    "guess = int(input(\"Guess a number between 1 and 100: \"))\n",
    "counter = 1\n",
    "\n",
    "while jackpot != guess:\n",
    "    if guess < jackpot:\n",
    "        print(\"Guess higher than\" , guess)\n",
    "    else:\n",
    "        print(\"Guess lower than\" , guess)\n",
    "\n",
    "    guess = int(input(\"Guess a number between 1 and 100: \"))\n",
    "    counter += 1\n",
    "\n",
    "print(\"Correct answer! You took\", counter, \"guesses.\")\n"
   ],
   "id": "ec4275db59313fc4",
   "outputs": [
    {
     "name": "stdout",
     "output_type": "stream",
     "text": [
      "Guess higher than 50\n",
      "Guess lower than 60\n",
      "Guess lower than 55\n",
      "Correct answer! You took 4 guesses.\n"
     ]
    }
   ],
   "execution_count": 2
  },
  {
   "metadata": {},
   "cell_type": "code",
   "outputs": [],
   "execution_count": null,
   "source": "",
   "id": "670978780376e54e"
  }
 ],
 "metadata": {
  "kernelspec": {
   "display_name": "Python 3",
   "language": "python",
   "name": "python3"
  },
  "language_info": {
   "codemirror_mode": {
    "name": "ipython",
    "version": 2
   },
   "file_extension": ".py",
   "mimetype": "text/x-python",
   "name": "python",
   "nbconvert_exporter": "python",
   "pygments_lexer": "ipython2",
   "version": "2.7.6"
  }
 },
 "nbformat": 4,
 "nbformat_minor": 5
}
