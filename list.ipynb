{
 "cells": [
  {
   "metadata": {},
   "cell_type": "markdown",
   "source": "List ACCESS",
   "id": "8ad12c6df436ad6f"
  },
  {
   "cell_type": "code",
   "id": "initial_id",
   "metadata": {
    "collapsed": true,
    "ExecuteTime": {
     "end_time": "2025-08-27T11:14:50.140267Z",
     "start_time": "2025-08-27T11:14:50.128233Z"
    }
   },
   "source": "L4= [[[1,2],[3,4]], [[5,6],[7,8]]]",
   "outputs": [],
   "execution_count": 1
  },
  {
   "metadata": {
    "ExecuteTime": {
     "end_time": "2025-08-27T11:14:53.425332Z",
     "start_time": "2025-08-27T11:14:53.407491Z"
    }
   },
   "cell_type": "code",
   "source": "L4",
   "id": "d19eac08a0aab90a",
   "outputs": [
    {
     "data": {
      "text/plain": [
       "[[[1, 2], [3, 4]], [[5, 6], [7, 8]]]"
      ]
     },
     "execution_count": 2,
     "metadata": {},
     "output_type": "execute_result"
    }
   ],
   "execution_count": 2
  },
  {
   "metadata": {
    "ExecuteTime": {
     "end_time": "2025-08-27T11:15:00.798357Z",
     "start_time": "2025-08-27T11:15:00.787029Z"
    }
   },
   "cell_type": "code",
   "source": "L4[1][1][0]",
   "id": "2c963d03d0e6d8da",
   "outputs": [
    {
     "data": {
      "text/plain": [
       "7"
      ]
     },
     "execution_count": 3,
     "metadata": {},
     "output_type": "execute_result"
    }
   ],
   "execution_count": 3
  },
  {
   "metadata": {
    "ExecuteTime": {
     "end_time": "2025-08-27T11:18:00.106413Z",
     "start_time": "2025-08-27T11:18:00.095630Z"
    }
   },
   "cell_type": "code",
   "source": [
    "L3=[1,2,3 , [4,5]]\n",
    "L3[-1]"
   ],
   "id": "8c6e0cfad31b1890",
   "outputs": [
    {
     "data": {
      "text/plain": [
       "[4, 5]"
      ]
     },
     "execution_count": 8,
     "metadata": {},
     "output_type": "execute_result"
    }
   ],
   "execution_count": 8
  },
  {
   "metadata": {
    "ExecuteTime": {
     "end_time": "2025-08-27T11:18:05.932682Z",
     "start_time": "2025-08-27T11:18:05.921861Z"
    }
   },
   "cell_type": "code",
   "source": "L3[-1][1]",
   "id": "3c3b7548fe866934",
   "outputs": [
    {
     "data": {
      "text/plain": [
       "5"
      ]
     },
     "execution_count": 9,
     "metadata": {},
     "output_type": "execute_result"
    }
   ],
   "execution_count": 9
  },
  {
   "metadata": {
    "ExecuteTime": {
     "end_time": "2025-08-27T11:18:13.136463Z",
     "start_time": "2025-08-27T11:18:13.124446Z"
    }
   },
   "cell_type": "code",
   "source": "L3[-1][0]",
   "id": "b9115bafdb267b71",
   "outputs": [
    {
     "data": {
      "text/plain": [
       "4"
      ]
     },
     "execution_count": 10,
     "metadata": {},
     "output_type": "execute_result"
    }
   ],
   "execution_count": 10
  },
  {
   "metadata": {
    "ExecuteTime": {
     "end_time": "2025-08-27T11:20:12.900071Z",
     "start_time": "2025-08-27T11:20:12.892234Z"
    }
   },
   "cell_type": "code",
   "source": "L = [1,2,3,4,5]",
   "id": "94f9621f0f1ca554",
   "outputs": [],
   "execution_count": 11
  },
  {
   "metadata": {},
   "cell_type": "markdown",
   "source": "lists in python are mutable, SO we can EDIT it",
   "id": "726fdde1499e93ed"
  },
  {
   "metadata": {
    "ExecuteTime": {
     "end_time": "2025-08-27T11:20:56.743792Z",
     "start_time": "2025-08-27T11:20:56.737662Z"
    }
   },
   "cell_type": "code",
   "source": "L[0]=100",
   "id": "fb1644178b9921dc",
   "outputs": [],
   "execution_count": 12
  },
  {
   "metadata": {
    "ExecuteTime": {
     "end_time": "2025-08-27T11:21:09.999139Z",
     "start_time": "2025-08-27T11:21:09.990721Z"
    }
   },
   "cell_type": "code",
   "source": "print(L)",
   "id": "f658ac163db2c0e8",
   "outputs": [
    {
     "name": "stdout",
     "output_type": "stream",
     "text": [
      "[100, 2, 3, 4, 5]\n"
     ]
    }
   ],
   "execution_count": 13
  },
  {
   "metadata": {
    "ExecuteTime": {
     "end_time": "2025-08-27T11:22:28.091896Z",
     "start_time": "2025-08-27T11:22:28.085586Z"
    }
   },
   "cell_type": "code",
   "source": [
    "L[1:4]=200,300,400\n",
    "L[-1]= 500"
   ],
   "id": "e8c2a1f42f0f3b09",
   "outputs": [],
   "execution_count": 16
  },
  {
   "metadata": {
    "ExecuteTime": {
     "end_time": "2025-08-27T11:22:29.231795Z",
     "start_time": "2025-08-27T11:22:29.223649Z"
    }
   },
   "cell_type": "code",
   "source": "print(L)",
   "id": "39886008e486edf9",
   "outputs": [
    {
     "name": "stdout",
     "output_type": "stream",
     "text": [
      "[100, 200, 300, 400, 500]\n"
     ]
    }
   ],
   "execution_count": 17
  },
  {
   "metadata": {},
   "cell_type": "markdown",
   "source": "TO ADD item in lists---- append, extend, insert",
   "id": "b8a35d0fb12c1b5a"
  },
  {
   "metadata": {
    "ExecuteTime": {
     "end_time": "2025-08-27T11:24:31.771309Z",
     "start_time": "2025-08-27T11:24:31.762606Z"
    }
   },
   "cell_type": "code",
   "source": [
    "L.append(1000)\n",
    "print(L)"
   ],
   "id": "bca101a147833ea5",
   "outputs": [
    {
     "name": "stdout",
     "output_type": "stream",
     "text": [
      "[100, 200, 300, 400, 500, 1000, 1000]\n"
     ]
    }
   ],
   "execution_count": 20
  },
  {
   "metadata": {},
   "cell_type": "markdown",
   "source": "append() only add one item in the list\n",
   "id": "709cd27eaf81030"
  },
  {
   "metadata": {
    "ExecuteTime": {
     "end_time": "2025-08-27T11:24:53.270901Z",
     "start_time": "2025-08-27T11:24:53.262460Z"
    }
   },
   "cell_type": "code",
   "source": [
    "L.append(\"hello\")\n",
    "print(L)"
   ],
   "id": "e112f3a19fd12501",
   "outputs": [
    {
     "name": "stdout",
     "output_type": "stream",
     "text": [
      "[100, 200, 300, 400, 500, 1000, 1000, 'hello']\n"
     ]
    }
   ],
   "execution_count": 21
  },
  {
   "metadata": {},
   "cell_type": "markdown",
   "source": "extend() adds multiple only",
   "id": "f8f23584853d9da0"
  },
  {
   "metadata": {
    "ExecuteTime": {
     "end_time": "2025-08-27T11:26:54.612846Z",
     "start_time": "2025-08-27T11:26:54.604694Z"
    }
   },
   "cell_type": "code",
   "source": [
    "L.extend([5000,6000,7000])\n",
    "print(L)"
   ],
   "id": "f74652daf5d23905",
   "outputs": [
    {
     "name": "stdout",
     "output_type": "stream",
     "text": [
      "[100, 200, 300, 400, 500, 1000, 1000, 'hello', 5000, 6000, 7000]\n"
     ]
    }
   ],
   "execution_count": 23
  },
  {
   "metadata": {},
   "cell_type": "markdown",
   "source": "insert() adds in the desired position",
   "id": "45d0dbbfbef00b4d"
  },
  {
   "metadata": {
    "ExecuteTime": {
     "end_time": "2025-08-27T11:28:15.600846Z",
     "start_time": "2025-08-27T11:28:15.592667Z"
    }
   },
   "cell_type": "code",
   "source": [
    "L.insert(1,\"world\")\n",
    "print(L)"
   ],
   "id": "e55c143e05a5d0f3",
   "outputs": [
    {
     "name": "stdout",
     "output_type": "stream",
     "text": [
      "[100, 'world', 200, 300, 400, 500, 1000, 1000, 'hello', 5000, 6000, 7000]\n"
     ]
    }
   ],
   "execution_count": 24
  },
  {
   "metadata": {},
   "cell_type": "markdown",
   "source": "TO DELETE------ del,remove,pop,clear",
   "id": "9f932ae8da92595"
  },
  {
   "metadata": {
    "ExecuteTime": {
     "end_time": "2025-08-27T11:30:03.450061Z",
     "start_time": "2025-08-27T11:30:03.441642Z"
    }
   },
   "cell_type": "code",
   "source": [
    "L2= [1,2,3,4,5]\n",
    "print(L2)"
   ],
   "id": "e0530112716b82a7",
   "outputs": [
    {
     "name": "stdout",
     "output_type": "stream",
     "text": [
      "[1, 2, 3, 4, 5]\n"
     ]
    }
   ],
   "execution_count": 28
  },
  {
   "metadata": {
    "ExecuteTime": {
     "end_time": "2025-08-27T11:30:17.941755Z",
     "start_time": "2025-08-27T11:30:17.936407Z"
    }
   },
   "cell_type": "code",
   "source": "del L2",
   "id": "23020335c1fa145c",
   "outputs": [],
   "execution_count": 30
  },
  {
   "metadata": {},
   "cell_type": "markdown",
   "source": "will be {{{{name 'L2' is not defined output}}}}",
   "id": "21b9081999fb1056"
  },
  {
   "metadata": {
    "ExecuteTime": {
     "end_time": "2025-08-27T11:30:18.301823Z",
     "start_time": "2025-08-27T11:30:18.262591Z"
    }
   },
   "cell_type": "code",
   "source": "print(L2)",
   "id": "184b7e097fcdd23b",
   "outputs": [
    {
     "ename": "NameError",
     "evalue": "name 'L2' is not defined",
     "output_type": "error",
     "traceback": [
      "\u001B[31m---------------------------------------------------------------------------\u001B[39m",
      "\u001B[31mNameError\u001B[39m                                 Traceback (most recent call last)",
      "\u001B[36mCell\u001B[39m\u001B[36m \u001B[39m\u001B[32mIn[31]\u001B[39m\u001B[32m, line 1\u001B[39m\n\u001B[32m----> \u001B[39m\u001B[32m1\u001B[39m \u001B[38;5;28mprint\u001B[39m(\u001B[43mL2\u001B[49m)\n",
      "\u001B[31mNameError\u001B[39m: name 'L2' is not defined"
     ]
    }
   ],
   "execution_count": 31
  },
  {
   "metadata": {
    "ExecuteTime": {
     "end_time": "2025-08-27T11:32:50.994360Z",
     "start_time": "2025-08-27T11:32:50.985688Z"
    }
   },
   "cell_type": "code",
   "source": "print(L)",
   "id": "48d283d10cafc6eb",
   "outputs": [
    {
     "name": "stdout",
     "output_type": "stream",
     "text": [
      "[100, 'world', 200, 300, 400, 500, 1000, 1000, 'hello', 5000, 6000, 7000]\n"
     ]
    }
   ],
   "execution_count": 32
  },
  {
   "metadata": {
    "ExecuteTime": {
     "end_time": "2025-08-27T11:33:17.077641Z",
     "start_time": "2025-08-27T11:33:17.070055Z"
    }
   },
   "cell_type": "code",
   "source": [
    "del L[-3]\n",
    "print(L)"
   ],
   "id": "9dbf55c0f3e4de28",
   "outputs": [
    {
     "name": "stdout",
     "output_type": "stream",
     "text": [
      "[100, 'world', 200, 300, 400, 500, 1000, 1000, 'hello', 6000, 7000]\n"
     ]
    }
   ],
   "execution_count": 33
  },
  {
   "metadata": {
    "ExecuteTime": {
     "end_time": "2025-08-27T11:33:39.056262Z",
     "start_time": "2025-08-27T11:33:39.048163Z"
    }
   },
   "cell_type": "code",
   "source": [
    "del L[-3:]\n",
    "print(L)"
   ],
   "id": "ea5cafab2cf04b53",
   "outputs": [
    {
     "name": "stdout",
     "output_type": "stream",
     "text": [
      "[100, 'world', 200, 300, 400, 500, 1000, 1000]\n"
     ]
    }
   ],
   "execution_count": 34
  },
  {
   "metadata": {},
   "cell_type": "markdown",
   "source": "When we dk the indexing we can delete the element by its name using remove()",
   "id": "92924e0c0f38425"
  },
  {
   "metadata": {
    "ExecuteTime": {
     "end_time": "2025-08-27T11:51:04.054957Z",
     "start_time": "2025-08-27T11:51:04.048386Z"
    }
   },
   "cell_type": "code",
   "source": [
    "L.remove(\"world\")\n",
    "print(L)"
   ],
   "id": "7dfe2a45a3605702",
   "outputs": [
    {
     "name": "stdout",
     "output_type": "stream",
     "text": [
      "[100, 200, 300, 400, 500, 1000, 1000]\n"
     ]
    }
   ],
   "execution_count": 35
  },
  {
   "metadata": {
    "ExecuteTime": {
     "end_time": "2025-08-27T11:51:50.007094Z",
     "start_time": "2025-08-27T11:51:50.001301Z"
    }
   },
   "cell_type": "code",
   "source": [
    "L.pop()\n",
    "print(L)"
   ],
   "id": "a3a52e1f5c8be19a",
   "outputs": [
    {
     "name": "stdout",
     "output_type": "stream",
     "text": [
      "[100, 200, 300, 400, 500]\n"
     ]
    }
   ],
   "execution_count": 37
  },
  {
   "metadata": {
    "ExecuteTime": {
     "end_time": "2025-08-27T11:51:50.420399Z",
     "start_time": "2025-08-27T11:51:50.413295Z"
    }
   },
   "cell_type": "code",
   "source": [
    "L.pop()\n",
    "print(L)"
   ],
   "id": "1c0376fbaa743faa",
   "outputs": [
    {
     "name": "stdout",
     "output_type": "stream",
     "text": [
      "[100, 200, 300, 400]\n"
     ]
    }
   ],
   "execution_count": 38
  },
  {
   "metadata": {
    "ExecuteTime": {
     "end_time": "2025-08-27T11:52:00.594161Z",
     "start_time": "2025-08-27T11:52:00.589455Z"
    }
   },
   "cell_type": "code",
   "source": [
    "L.pop()\n",
    "print(L)"
   ],
   "id": "980adc349bcbae49",
   "outputs": [
    {
     "name": "stdout",
     "output_type": "stream",
     "text": [
      "[100, 200, 300]\n"
     ]
    }
   ],
   "execution_count": 39
  },
  {
   "metadata": {},
   "cell_type": "markdown",
   "source": "empty the list",
   "id": "fcde98d618817c24"
  },
  {
   "metadata": {
    "ExecuteTime": {
     "end_time": "2025-08-27T11:52:21.280510Z",
     "start_time": "2025-08-27T11:52:21.274336Z"
    }
   },
   "cell_type": "code",
   "source": [
    "L.clear()\n",
    "print(L)"
   ],
   "id": "3b987ac4cf73e5b2",
   "outputs": [
    {
     "name": "stdout",
     "output_type": "stream",
     "text": [
      "[]\n"
     ]
    }
   ],
   "execution_count": 40
  },
  {
   "metadata": {},
   "cell_type": "markdown",
   "source": "List operation",
   "id": "968e6eda8a777f77"
  },
  {
   "metadata": {
    "ExecuteTime": {
     "end_time": "2025-08-27T11:53:36.894668Z",
     "start_time": "2025-08-27T11:53:36.889280Z"
    }
   },
   "cell_type": "code",
   "source": [
    "L1=[1,2,3,4,5]\n",
    "L2=[6,7,8,9,10]\n",
    "L1+L2"
   ],
   "id": "ea591b48a02eea66",
   "outputs": [
    {
     "data": {
      "text/plain": [
       "[1, 2, 3, 4, 5, 6, 7, 8, 9, 10]"
      ]
     },
     "execution_count": 41,
     "metadata": {},
     "output_type": "execute_result"
    }
   ],
   "execution_count": 41
  },
  {
   "metadata": {
    "ExecuteTime": {
     "end_time": "2025-08-27T11:53:58.218693Z",
     "start_time": "2025-08-27T11:53:58.212424Z"
    }
   },
   "cell_type": "code",
   "source": "L1*3",
   "id": "e116fa2485ea2b0b",
   "outputs": [
    {
     "data": {
      "text/plain": [
       "[1, 2, 3, 4, 5, 1, 2, 3, 4, 5, 1, 2, 3, 4, 5]"
      ]
     },
     "execution_count": 42,
     "metadata": {},
     "output_type": "execute_result"
    }
   ],
   "execution_count": 42
  },
  {
   "metadata": {
    "ExecuteTime": {
     "end_time": "2025-08-27T11:57:11.924199Z",
     "start_time": "2025-08-27T11:57:11.918487Z"
    }
   },
   "cell_type": "code",
   "source": "print(L1)",
   "id": "aec2dddb01f09d09",
   "outputs": [
    {
     "name": "stdout",
     "output_type": "stream",
     "text": [
      "[1, 2, 3, 4, 5]\n"
     ]
    }
   ],
   "execution_count": 44
  },
  {
   "metadata": {
    "ExecuteTime": {
     "end_time": "2025-08-27T11:56:44.689721Z",
     "start_time": "2025-08-27T11:56:44.683264Z"
    }
   },
   "cell_type": "code",
   "source": [
    "for i in L1:\n",
    "    print(i)"
   ],
   "id": "7951e29d551d8f4e",
   "outputs": [
    {
     "name": "stdout",
     "output_type": "stream",
     "text": [
      "1\n",
      "2\n",
      "3\n",
      "4\n",
      "5\n"
     ]
    }
   ],
   "execution_count": 43
  },
  {
   "metadata": {
    "ExecuteTime": {
     "end_time": "2025-08-27T11:58:15.328399Z",
     "start_time": "2025-08-27T11:58:15.323951Z"
    }
   },
   "cell_type": "code",
   "source": "L3=[1, 2, 3, [4, 5]]",
   "id": "5a1cc1e4d85f6478",
   "outputs": [],
   "execution_count": 46
  },
  {
   "metadata": {
    "ExecuteTime": {
     "end_time": "2025-08-27T11:58:46.008238Z",
     "start_time": "2025-08-27T11:58:46.002393Z"
    }
   },
   "cell_type": "code",
   "source": [
    "for i in L3:\n",
    "    print(i)"
   ],
   "id": "44ef24560b3e30ce",
   "outputs": [
    {
     "name": "stdout",
     "output_type": "stream",
     "text": [
      "1\n",
      "2\n",
      "3\n",
      "[4, 5]\n"
     ]
    }
   ],
   "execution_count": 48
  },
  {
   "metadata": {
    "ExecuteTime": {
     "end_time": "2025-08-27T12:00:45.567088Z",
     "start_time": "2025-08-27T12:00:45.561168Z"
    }
   },
   "cell_type": "code",
   "source": "4 in L3",
   "id": "6d78d31c8af47a0",
   "outputs": [
    {
     "data": {
      "text/plain": [
       "False"
      ]
     },
     "execution_count": 49,
     "metadata": {},
     "output_type": "execute_result"
    }
   ],
   "execution_count": 49
  },
  {
   "metadata": {
    "ExecuteTime": {
     "end_time": "2025-08-27T12:00:59.664808Z",
     "start_time": "2025-08-27T12:00:59.654566Z"
    }
   },
   "cell_type": "code",
   "source": "[4, 5] in L3",
   "id": "a345c5ec88cf5eba",
   "outputs": [
    {
     "data": {
      "text/plain": [
       "True"
      ]
     },
     "execution_count": 50,
     "metadata": {},
     "output_type": "execute_result"
    }
   ],
   "execution_count": 50
  },
  {
   "metadata": {},
   "cell_type": "markdown",
   "source": "FUNCTIONS In Lists",
   "id": "98a651d2cf249d12"
  },
  {
   "metadata": {
    "ExecuteTime": {
     "end_time": "2025-08-27T12:01:33.762682Z",
     "start_time": "2025-08-27T12:01:33.756190Z"
    }
   },
   "cell_type": "code",
   "source": "print(L)",
   "id": "ba7177d33f2acf9e",
   "outputs": [
    {
     "name": "stdout",
     "output_type": "stream",
     "text": [
      "[]\n"
     ]
    }
   ],
   "execution_count": 51
  },
  {
   "metadata": {
    "ExecuteTime": {
     "end_time": "2025-08-27T12:01:44.244717Z",
     "start_time": "2025-08-27T12:01:44.239993Z"
    }
   },
   "cell_type": "code",
   "source": "L=[1,2,3,4,5]",
   "id": "60174bd67a32096e",
   "outputs": [],
   "execution_count": 52
  },
  {
   "metadata": {
    "ExecuteTime": {
     "end_time": "2025-08-27T12:01:54.644055Z",
     "start_time": "2025-08-27T12:01:54.638065Z"
    }
   },
   "cell_type": "code",
   "source": "max(L)",
   "id": "e77ae9d537a73dde",
   "outputs": [
    {
     "data": {
      "text/plain": [
       "5"
      ]
     },
     "execution_count": 53,
     "metadata": {},
     "output_type": "execute_result"
    }
   ],
   "execution_count": 53
  },
  {
   "metadata": {
    "ExecuteTime": {
     "end_time": "2025-08-27T12:02:00.064582Z",
     "start_time": "2025-08-27T12:02:00.055222Z"
    }
   },
   "cell_type": "code",
   "source": "min(L)",
   "id": "ae6c339b2e86f883",
   "outputs": [
    {
     "data": {
      "text/plain": [
       "1"
      ]
     },
     "execution_count": 54,
     "metadata": {},
     "output_type": "execute_result"
    }
   ],
   "execution_count": 54
  },
  {
   "metadata": {
    "ExecuteTime": {
     "end_time": "2025-08-27T12:02:15.235415Z",
     "start_time": "2025-08-27T12:02:15.226664Z"
    }
   },
   "cell_type": "code",
   "source": "sorted(L)",
   "id": "ea8eae87f55955b9",
   "outputs": [
    {
     "data": {
      "text/plain": [
       "[1, 2, 3, 4, 5]"
      ]
     },
     "execution_count": 55,
     "metadata": {},
     "output_type": "execute_result"
    }
   ],
   "execution_count": 55
  },
  {
   "metadata": {},
   "cell_type": "markdown",
   "source": "sorted() is not a permamnent solution",
   "id": "5f95048913545273"
  },
  {
   "metadata": {
    "ExecuteTime": {
     "end_time": "2025-08-27T12:03:30.451058Z",
     "start_time": "2025-08-27T12:03:30.444367Z"
    }
   },
   "cell_type": "code",
   "source": "sorted(L,reverse=True)",
   "id": "3e6f96c8757bb5aa",
   "outputs": [
    {
     "data": {
      "text/plain": [
       "[5, 4, 3, 2, 1]"
      ]
     },
     "execution_count": 57,
     "metadata": {},
     "output_type": "execute_result"
    }
   ],
   "execution_count": 57
  },
  {
   "metadata": {},
   "cell_type": "markdown",
   "source": "L gets like previous",
   "id": "8bf224cecf90f6c2"
  },
  {
   "metadata": {
    "ExecuteTime": {
     "end_time": "2025-08-27T12:03:39.349827Z",
     "start_time": "2025-08-27T12:03:39.345044Z"
    }
   },
   "cell_type": "code",
   "source": "print(L)",
   "id": "3996bb90632fb55b",
   "outputs": [
    {
     "name": "stdout",
     "output_type": "stream",
     "text": [
      "[1, 2, 3, 4, 5]\n"
     ]
    }
   ],
   "execution_count": 58
  },
  {
   "metadata": {},
   "cell_type": "markdown",
   "source": "Using sort()",
   "id": "2ecd7bd2b1c3a1f9"
  },
  {
   "metadata": {
    "ExecuteTime": {
     "end_time": "2025-08-27T12:04:51.035851Z",
     "start_time": "2025-08-27T12:04:51.032486Z"
    }
   },
   "cell_type": "code",
   "source": "L.sort(reverse=True)",
   "id": "57e1ca748320a15b",
   "outputs": [],
   "execution_count": 59
  },
  {
   "metadata": {},
   "cell_type": "markdown",
   "source": "L changed permanently",
   "id": "81a7e02b57ad4870"
  },
  {
   "metadata": {
    "ExecuteTime": {
     "end_time": "2025-08-27T12:05:04.921497Z",
     "start_time": "2025-08-27T12:05:04.916131Z"
    }
   },
   "cell_type": "code",
   "source": "print(L)",
   "id": "f34173d5e68d8433",
   "outputs": [
    {
     "name": "stdout",
     "output_type": "stream",
     "text": [
      "[5, 4, 3, 2, 1]\n"
     ]
    }
   ],
   "execution_count": 60
  },
  {
   "metadata": {
    "ExecuteTime": {
     "end_time": "2025-08-27T12:05:52.034081Z",
     "start_time": "2025-08-27T12:05:52.026879Z"
    }
   },
   "cell_type": "code",
   "source": " L.index(3)",
   "id": "2f9015ff9e791b42",
   "outputs": [
    {
     "data": {
      "text/plain": [
       "2"
      ]
     },
     "execution_count": 61,
     "metadata": {},
     "output_type": "execute_result"
    }
   ],
   "execution_count": 61
  },
  {
   "metadata": {},
   "cell_type": "markdown",
   "source": [
    "**PROBLEM::::**\n",
    "We have this input:: **sample= \"how are you\"** and we have to make it **How Are You**  and as in list there is no function like title(), so this is how we solve it"
   ],
   "id": "253a1a8cfde6b4c4"
  },
  {
   "metadata": {
    "ExecuteTime": {
     "end_time": "2025-08-27T12:11:43.400449Z",
     "start_time": "2025-08-27T12:11:43.395290Z"
    }
   },
   "cell_type": "code",
   "source": [
    "list = []\n",
    "sample= \"how are you\"\n",
    "print(sample)"
   ],
   "id": "543f278e0fbcc862",
   "outputs": [
    {
     "name": "stdout",
     "output_type": "stream",
     "text": [
      "how are you\n"
     ]
    }
   ],
   "execution_count": 62
  },
  {
   "metadata": {},
   "cell_type": "markdown",
   "source": "first convert this string a list",
   "id": "bd6971998f315093"
  },
  {
   "metadata": {
    "ExecuteTime": {
     "end_time": "2025-08-27T12:12:19.105356Z",
     "start_time": "2025-08-27T12:12:19.100616Z"
    }
   },
   "cell_type": "code",
   "source": [
    "splitted= sample.split()\n",
    "print(splitted)"
   ],
   "id": "26cef353eade49c2",
   "outputs": [
    {
     "name": "stdout",
     "output_type": "stream",
     "text": [
      "['how', 'are', 'you']\n"
     ]
    }
   ],
   "execution_count": 64
  },
  {
   "metadata": {},
   "cell_type": "markdown",
   "source": "Capitelize on every iteration and the convert this list a string again",
   "id": "39c4b30d02ad404c"
  },
  {
   "metadata": {
    "ExecuteTime": {
     "end_time": "2025-08-27T12:16:28.797535Z",
     "start_time": "2025-08-27T12:16:28.791960Z"
    }
   },
   "cell_type": "code",
   "source": [
    "list = []\n",
    "sample= \"how are you\"\n",
    "splitted= sample.split()\n",
    "for i in splitted:\n",
    "    print(i.capitalize())\n",
    "    list.append(i.capitalize())\n",
    "print(list)\n",
    "print(\" \".join(list))"
   ],
   "id": "eedfe864a760a5ae",
   "outputs": [
    {
     "name": "stdout",
     "output_type": "stream",
     "text": [
      "How\n",
      "Are\n",
      "You\n",
      "['How', 'Are', 'You']\n",
      "How Are You\n"
     ]
    }
   ],
   "execution_count": 69
  },
  {
   "metadata": {},
   "cell_type": "markdown",
   "source": [
    "Problem:::::\n",
    "find the prince form that email"
   ],
   "id": "ffc287b741cad6ca"
  },
  {
   "metadata": {
    "ExecuteTime": {
     "end_time": "2025-08-27T12:27:25.130872Z",
     "start_time": "2025-08-27T12:27:25.123397Z"
    }
   },
   "cell_type": "code",
   "source": [
    "sample2= \"prince@gmail.com\"\n",
    "\n",
    "output= sample2[:sample2.find(\"@\")]\n",
    "print(output)"
   ],
   "id": "1356f64127a4925b",
   "outputs": [
    {
     "name": "stdout",
     "output_type": "stream",
     "text": [
      "prince\n"
     ]
    }
   ],
   "execution_count": 72
  },
  {
   "metadata": {},
   "cell_type": "markdown",
   "source": "Problem:::: remove the duplicate",
   "id": "a1584d17aa5ae7a1"
  },
  {
   "metadata": {
    "ExecuteTime": {
     "end_time": "2025-08-27T12:31:00.868135Z",
     "start_time": "2025-08-27T12:31:00.862841Z"
    }
   },
   "cell_type": "code",
   "source": [
    "L1= [1,1,2,2,3,3,4,4]\n",
    "\n",
    "\n",
    "L=[]\n",
    "for i in L1:\n",
    "    if i not in L:\n",
    "        L.append(i)\n",
    "print(L)\n"
   ],
   "id": "57499a460fdaed61",
   "outputs": [
    {
     "name": "stdout",
     "output_type": "stream",
     "text": [
      "[1, 2, 3, 4]\n"
     ]
    }
   ],
   "execution_count": 73
  },
  {
   "metadata": {},
   "cell_type": "code",
   "outputs": [],
   "execution_count": null,
   "source": "",
   "id": "4877ac6b1cef92dc"
  }
 ],
 "metadata": {
  "kernelspec": {
   "display_name": "Python 3",
   "language": "python",
   "name": "python3"
  },
  "language_info": {
   "codemirror_mode": {
    "name": "ipython",
    "version": 2
   },
   "file_extension": ".py",
   "mimetype": "text/x-python",
   "name": "python",
   "nbconvert_exporter": "python",
   "pygments_lexer": "ipython2",
   "version": "2.7.6"
  }
 },
 "nbformat": 4,
 "nbformat_minor": 5
}
