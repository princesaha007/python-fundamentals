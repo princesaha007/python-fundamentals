{
 "cells": [
  {
   "cell_type": "code",
   "id": "initial_id",
   "metadata": {
    "collapsed": true,
    "ExecuteTime": {
     "end_time": "2025-08-27T06:27:10.751941Z",
     "start_time": "2025-08-27T06:27:10.741757Z"
    }
   },
   "source": "list(range(50))",
   "outputs": [
    {
     "data": {
      "text/plain": [
       "[0,\n",
       " 1,\n",
       " 2,\n",
       " 3,\n",
       " 4,\n",
       " 5,\n",
       " 6,\n",
       " 7,\n",
       " 8,\n",
       " 9,\n",
       " 10,\n",
       " 11,\n",
       " 12,\n",
       " 13,\n",
       " 14,\n",
       " 15,\n",
       " 16,\n",
       " 17,\n",
       " 18,\n",
       " 19,\n",
       " 20,\n",
       " 21,\n",
       " 22,\n",
       " 23,\n",
       " 24,\n",
       " 25,\n",
       " 26,\n",
       " 27,\n",
       " 28,\n",
       " 29,\n",
       " 30,\n",
       " 31,\n",
       " 32,\n",
       " 33,\n",
       " 34,\n",
       " 35,\n",
       " 36,\n",
       " 37,\n",
       " 38,\n",
       " 39,\n",
       " 40,\n",
       " 41,\n",
       " 42,\n",
       " 43,\n",
       " 44,\n",
       " 45,\n",
       " 46,\n",
       " 47,\n",
       " 48,\n",
       " 49]"
      ]
     },
     "execution_count": 1,
     "metadata": {},
     "output_type": "execute_result"
    }
   ],
   "execution_count": 1
  },
  {
   "metadata": {
    "ExecuteTime": {
     "end_time": "2025-08-27T06:27:32.998941Z",
     "start_time": "2025-08-27T06:27:32.987885Z"
    }
   },
   "cell_type": "code",
   "source": "list(range(1,11,3))",
   "id": "6a5200822fe2d315",
   "outputs": [
    {
     "data": {
      "text/plain": [
       "[1, 4, 7, 10]"
      ]
     },
     "execution_count": 2,
     "metadata": {},
     "output_type": "execute_result"
    }
   ],
   "execution_count": 2
  },
  {
   "metadata": {
    "ExecuteTime": {
     "end_time": "2025-08-27T06:27:53.326098Z",
     "start_time": "2025-08-27T06:27:53.320383Z"
    }
   },
   "cell_type": "code",
   "source": "list(range(10,0,-1))",
   "id": "63738fab6983694c",
   "outputs": [
    {
     "data": {
      "text/plain": [
       "[10, 9, 8, 7, 6, 5, 4, 3, 2, 1]"
      ]
     },
     "execution_count": 3,
     "metadata": {},
     "output_type": "execute_result"
    }
   ],
   "execution_count": 3
  },
  {
   "metadata": {
    "ExecuteTime": {
     "end_time": "2025-08-27T06:28:03.631578Z",
     "start_time": "2025-08-27T06:28:03.626217Z"
    }
   },
   "cell_type": "code",
   "source": "list(range(10,0))",
   "id": "afc2e762e57b041c",
   "outputs": [
    {
     "data": {
      "text/plain": [
       "[]"
      ]
     },
     "execution_count": 4,
     "metadata": {},
     "output_type": "execute_result"
    }
   ],
   "execution_count": 4
  },
  {
   "metadata": {
    "ExecuteTime": {
     "end_time": "2025-08-27T06:28:45.389651Z",
     "start_time": "2025-08-27T06:28:45.384819Z"
    }
   },
   "cell_type": "code",
   "source": [
    "for i in range(1,11):\n",
    "    print(i)"
   ],
   "id": "b5d42e01d8efe54f",
   "outputs": [
    {
     "name": "stdout",
     "output_type": "stream",
     "text": [
      "1\n",
      "2\n",
      "3\n",
      "4\n",
      "5\n",
      "6\n",
      "7\n",
      "8\n",
      "9\n",
      "10\n"
     ]
    }
   ],
   "execution_count": 5
  },
  {
   "metadata": {
    "ExecuteTime": {
     "end_time": "2025-08-27T06:28:57.547484Z",
     "start_time": "2025-08-27T06:28:57.542077Z"
    }
   },
   "cell_type": "code",
   "source": [
    "for i in range(1,11,2):\n",
    "    print(i)"
   ],
   "id": "31f4d6097803d0f3",
   "outputs": [
    {
     "name": "stdout",
     "output_type": "stream",
     "text": [
      "1\n",
      "3\n",
      "5\n",
      "7\n",
      "9\n"
     ]
    }
   ],
   "execution_count": 6
  },
  {
   "metadata": {
    "ExecuteTime": {
     "end_time": "2025-08-27T06:29:08.867962Z",
     "start_time": "2025-08-27T06:29:08.863244Z"
    }
   },
   "cell_type": "code",
   "source": [
    "for i in range(10,2,-1):\n",
    "    print(i)"
   ],
   "id": "67d41975d3b47867",
   "outputs": [
    {
     "name": "stdout",
     "output_type": "stream",
     "text": [
      "10\n",
      "9\n",
      "8\n",
      "7\n",
      "6\n",
      "5\n",
      "4\n",
      "3\n"
     ]
    }
   ],
   "execution_count": 7
  },
  {
   "metadata": {
    "ExecuteTime": {
     "end_time": "2025-08-27T06:29:35.357222Z",
     "start_time": "2025-08-27T06:29:35.351062Z"
    }
   },
   "cell_type": "code",
   "source": [
    " for i in \"kolkata\":\n",
    "    print(i)"
   ],
   "id": "1db503acd5cc3cad",
   "outputs": [
    {
     "name": "stdout",
     "output_type": "stream",
     "text": [
      "k\n",
      "o\n",
      "l\n",
      "k\n",
      "a\n",
      "t\n",
      "a\n"
     ]
    }
   ],
   "execution_count": 8
  },
  {
   "metadata": {
    "ExecuteTime": {
     "end_time": "2025-08-27T06:30:07.162302Z",
     "start_time": "2025-08-27T06:30:07.154451Z"
    }
   },
   "cell_type": "code",
   "source": [
    "for i in [1,2,3,4,5]:\n",
    "    print(i)"
   ],
   "id": "f2d309bf229ce7ed",
   "outputs": [
    {
     "name": "stdout",
     "output_type": "stream",
     "text": [
      "1\n",
      "2\n",
      "3\n",
      "4\n",
      "5\n"
     ]
    }
   ],
   "execution_count": 9
  },
  {
   "metadata": {
    "ExecuteTime": {
     "end_time": "2025-08-27T06:30:22.935616Z",
     "start_time": "2025-08-27T06:30:22.928389Z"
    }
   },
   "cell_type": "code",
   "source": [
    "for i in (1,2,3,4,5):\n",
    "    print(i)"
   ],
   "id": "b987895a5ca334cc",
   "outputs": [
    {
     "name": "stdout",
     "output_type": "stream",
     "text": [
      "1\n",
      "2\n",
      "3\n",
      "4\n",
      "5\n"
     ]
    }
   ],
   "execution_count": 10
  },
  {
   "metadata": {},
   "cell_type": "markdown",
   "source": "# * problem",
   "id": "30dd334e7fd590be"
  },
  {
   "metadata": {},
   "cell_type": "markdown",
   "source": [
    "# *\n",
    "# **\n",
    "# ***\n",
    "# ****\n",
    "# *****"
   ],
   "id": "40dce7ab3a4983f1"
  },
  {
   "metadata": {
    "ExecuteTime": {
     "end_time": "2025-08-27T06:51:54.997667Z",
     "start_time": "2025-08-27T06:51:50.985030Z"
    }
   },
   "cell_type": "code",
   "source": [
    "rows= int(input(\"enter the number of rows\"))\n",
    "\n",
    "for i in range (1,rows+1):\n",
    "     print(i*\"* \")\n",
    "     print(' '.join(['*'] * i))\n"
   ],
   "id": "39302eb4ef88bb90",
   "outputs": [
    {
     "name": "stdout",
     "output_type": "stream",
     "text": [
      "* \n",
      "*\n",
      "* * \n",
      "* *\n",
      "* * * \n",
      "* * *\n",
      "* * * * \n",
      "* * * *\n",
      "* * * * * \n",
      "* * * * *\n"
     ]
    }
   ],
   "execution_count": 24
  },
  {
   "metadata": {
    "ExecuteTime": {
     "end_time": "2025-08-27T06:41:44.264704Z",
     "start_time": "2025-08-27T06:41:40.248041Z"
    }
   },
   "cell_type": "code",
   "source": [
    "rows= int(input(\"enter the number of rows\"))\n",
    "\n",
    "for i in range (1,rows+1):\n",
    "    for j in range(0,i):\n",
    "        print(\"*\",end=\" \")\n",
    "    print(\"\")"
   ],
   "id": "3442a18c541e3ce6",
   "outputs": [
    {
     "name": "stdout",
     "output_type": "stream",
     "text": [
      "* \n",
      "* * \n",
      "* * * \n",
      "* * * * \n",
      "* * * * * \n"
     ]
    }
   ],
   "execution_count": 14
  },
  {
   "metadata": {},
   "cell_type": "code",
   "outputs": [],
   "execution_count": null,
   "source": "",
   "id": "f8686aa4857c0480"
  }
 ],
 "metadata": {
  "kernelspec": {
   "display_name": "Python 3",
   "language": "python",
   "name": "python3"
  },
  "language_info": {
   "codemirror_mode": {
    "name": "ipython",
    "version": 2
   },
   "file_extension": ".py",
   "mimetype": "text/x-python",
   "name": "python",
   "nbconvert_exporter": "python",
   "pygments_lexer": "ipython2",
   "version": "2.7.6"
  }
 },
 "nbformat": 4,
 "nbformat_minor": 5
}
