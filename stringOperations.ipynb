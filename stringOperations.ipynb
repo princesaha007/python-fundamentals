{
 "cells": [
  {
   "metadata": {},
   "cell_type": "markdown",
   "source": "slicing",
   "id": "ce8c81307bf40fa9"
  },
  {
   "cell_type": "code",
   "id": "initial_id",
   "metadata": {
    "collapsed": true,
    "ExecuteTime": {
     "end_time": "2025-08-27T06:14:37.167887Z",
     "start_time": "2025-08-27T06:14:37.161310Z"
    }
   },
   "source": [
    "c= \"hello world\"\n",
    "print(c)"
   ],
   "outputs": [
    {
     "name": "stdout",
     "output_type": "stream",
     "text": [
      "hello world\n"
     ]
    }
   ],
   "execution_count": 1
  },
  {
   "metadata": {
    "ExecuteTime": {
     "end_time": "2025-08-27T06:15:11.985465Z",
     "start_time": "2025-08-27T06:15:11.980278Z"
    }
   },
   "cell_type": "code",
   "source": "print(c[0:3])",
   "id": "44a0a74485f5c66b",
   "outputs": [
    {
     "name": "stdout",
     "output_type": "stream",
     "text": [
      "hel\n"
     ]
    }
   ],
   "execution_count": 2
  },
  {
   "metadata": {
    "ExecuteTime": {
     "end_time": "2025-08-27T06:15:28.860429Z",
     "start_time": "2025-08-27T06:15:28.855297Z"
    }
   },
   "cell_type": "code",
   "source": "print(c[:2])",
   "id": "c0f9702419b685ab",
   "outputs": [
    {
     "name": "stdout",
     "output_type": "stream",
     "text": [
      "he\n"
     ]
    }
   ],
   "execution_count": 3
  },
  {
   "metadata": {
    "ExecuteTime": {
     "end_time": "2025-08-27T06:16:12.208757Z",
     "start_time": "2025-08-27T06:16:12.203155Z"
    }
   },
   "cell_type": "code",
   "source": "print(c[2:])",
   "id": "deddc7ad4dbf4c88",
   "outputs": [
    {
     "name": "stdout",
     "output_type": "stream",
     "text": [
      "llo world\n"
     ]
    }
   ],
   "execution_count": 4
  },
  {
   "metadata": {
    "ExecuteTime": {
     "end_time": "2025-08-27T06:16:26.883330Z",
     "start_time": "2025-08-27T06:16:26.876307Z"
    }
   },
   "cell_type": "code",
   "source": "print(c[:])",
   "id": "aceadd4be2ca7b95",
   "outputs": [
    {
     "name": "stdout",
     "output_type": "stream",
     "text": [
      "hello world\n"
     ]
    }
   ],
   "execution_count": 5
  },
  {
   "metadata": {
    "ExecuteTime": {
     "end_time": "2025-08-27T06:16:46.300094Z",
     "start_time": "2025-08-27T06:16:46.294194Z"
    }
   },
   "cell_type": "code",
   "source": "print(c[2:6:2])",
   "id": "4e803d6abd1be0fc",
   "outputs": [
    {
     "name": "stdout",
     "output_type": "stream",
     "text": [
      "lo\n"
     ]
    }
   ],
   "execution_count": 6
  },
  {
   "metadata": {
    "ExecuteTime": {
     "end_time": "2025-08-27T06:18:59.426321Z",
     "start_time": "2025-08-27T06:18:59.421592Z"
    }
   },
   "cell_type": "code",
   "source": "print(c[0:8:3])",
   "id": "2810866336e835a",
   "outputs": [
    {
     "name": "stdout",
     "output_type": "stream",
     "text": [
      "hlw\n"
     ]
    }
   ],
   "execution_count": 7
  },
  {
   "metadata": {
    "ExecuteTime": {
     "end_time": "2025-08-27T06:19:43.560334Z",
     "start_time": "2025-08-27T06:19:43.555524Z"
    }
   },
   "cell_type": "code",
   "source": "print(c[0:8:-1])",
   "id": "375f1473b29ea01a",
   "outputs": [
    {
     "name": "stdout",
     "output_type": "stream",
     "text": [
      "\n"
     ]
    }
   ],
   "execution_count": 8
  },
  {
   "metadata": {},
   "cell_type": "markdown",
   "source": "reverse",
   "id": "84dc3f72b16defb7"
  },
  {
   "metadata": {
    "ExecuteTime": {
     "end_time": "2025-08-27T06:20:35.081047Z",
     "start_time": "2025-08-27T06:20:35.076292Z"
    }
   },
   "cell_type": "code",
   "source": "print(c[::-1])",
   "id": "a3f37a3d5e9ba758",
   "outputs": [
    {
     "name": "stdout",
     "output_type": "stream",
     "text": [
      "dlrow olleh\n"
     ]
    }
   ],
   "execution_count": 9
  },
  {
   "metadata": {},
   "cell_type": "markdown",
   "source": "operations",
   "id": "e504fa70bacfd849"
  },
  {
   "metadata": {
    "ExecuteTime": {
     "end_time": "2025-08-27T06:23:04.612039Z",
     "start_time": "2025-08-27T06:23:04.605909Z"
    }
   },
   "cell_type": "code",
   "source": "print(\"*\"*50)",
   "id": "867a83a037e6c52a",
   "outputs": [
    {
     "name": "stdout",
     "output_type": "stream",
     "text": [
      "**************************************************\n"
     ]
    }
   ],
   "execution_count": 10
  },
  {
   "metadata": {},
   "cell_type": "markdown",
   "source": "laxiographycally",
   "id": "3527de36c31e65b0"
  },
  {
   "metadata": {
    "ExecuteTime": {
     "end_time": "2025-08-27T06:23:35.580164Z",
     "start_time": "2025-08-27T06:23:35.572201Z"
    }
   },
   "cell_type": "code",
   "source": "\"goa\"<\"kolkata\"",
   "id": "d69fffdef67ecfc7",
   "outputs": [
    {
     "data": {
      "text/plain": [
       "True"
      ]
     },
     "execution_count": 11,
     "metadata": {},
     "output_type": "execute_result"
    }
   ],
   "execution_count": 11
  },
  {
   "metadata": {},
   "cell_type": "code",
   "outputs": [],
   "execution_count": null,
   "source": "",
   "id": "44a5dbabded627fa"
  },
  {
   "metadata": {
    "ExecuteTime": {
     "end_time": "2025-08-27T06:23:54.337692Z",
     "start_time": "2025-08-27T06:23:54.330653Z"
    }
   },
   "cell_type": "code",
   "source": "\"dhaka\"<\"goa\"",
   "id": "a2b67d9c9e705782",
   "outputs": [
    {
     "data": {
      "text/plain": [
       "True"
      ]
     },
     "execution_count": 12,
     "metadata": {},
     "output_type": "execute_result"
    }
   ],
   "execution_count": 12
  },
  {
   "metadata": {},
   "cell_type": "code",
   "outputs": [],
   "execution_count": null,
   "source": "",
   "id": "22fb7f94e69d6ba"
  }
 ],
 "metadata": {
  "kernelspec": {
   "display_name": "Python 3",
   "language": "python",
   "name": "python3"
  },
  "language_info": {
   "codemirror_mode": {
    "name": "ipython",
    "version": 2
   },
   "file_extension": ".py",
   "mimetype": "text/x-python",
   "name": "python",
   "nbconvert_exporter": "python",
   "pygments_lexer": "ipython2",
   "version": "2.7.6"
  }
 },
 "nbformat": 4,
 "nbformat_minor": 5
}
